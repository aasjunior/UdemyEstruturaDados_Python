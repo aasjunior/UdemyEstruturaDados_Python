{
  "nbformat": 4,
  "nbformat_minor": 0,
  "metadata": {
    "colab": {
      "provenance": [],
      "authorship_tag": "ABX9TyO8g17rytz6NhK4QEjkPSGv",
      "include_colab_link": true
    },
    "kernelspec": {
      "name": "python3",
      "display_name": "Python 3"
    },
    "language_info": {
      "name": "python"
    }
  },
  "cells": [
    {
      "cell_type": "markdown",
      "metadata": {
        "id": "view-in-github",
        "colab_type": "text"
      },
      "source": [
        "<a href=\"https://colab.research.google.com/github/aasjunior/UdemyEstruturaDados_Python/blob/main/Expressoes_Regulares.ipynb\" target=\"_parent\"><img src=\"https://colab.research.google.com/assets/colab-badge.svg\" alt=\"Open In Colab\"/></a>"
      ]
    },
    {
      "cell_type": "code",
      "execution_count": null,
      "metadata": {
        "id": "jZMwIydi6-OX"
      },
      "outputs": [],
      "source": []
    },
    {
      "cell_type": "markdown",
      "source": [
        "## Expressões Regulares\n",
        "\n",
        "\n",
        "\n",
        "*   Busca sofisticada por padrões textuais\n",
        "*   Extrair determinadas palavras através de suas caracteristicas ou como ocorre a separação entre elas\n",
        "\n",
        "### Métodos\n",
        "\n",
        "\n",
        "*   **Search**: Encontrar as posições de padrões dentro de uma string, se estes estiverem presentes\n",
        "*   **Match**: Encontrar se o começo de uma string é igual a um determinado padrão\n",
        "*   **Findall**: Encontrar todas as substrings em uma string que correspondam a um padrão\n",
        "\n",
        "### Metacaracteres\n",
        "\n",
        "\n",
        "*   **.** Qualquer caractere (exceto linha nova)\n",
        "*   **\\w** Qualquer caractere alfanúmerico\n",
        "*   **\\W** Qualquer caractere não-alfanúmerico\n",
        "*   **\\d** Qualquer caractere que seja um dígito (0-9)\n",
        "*   **\\D** Qualquer caractere não dígito\n",
        "*   **\\s** Espaço em branco\n",
        "*   **^** Começa com...\n",
        "*   **$** Termina com...\n",
        "*   **\\** Usado antes de metacaracteres para especificar seu significado literal (escape)\n",
        "\n",
        "\n",
        "### Quantificadores\n",
        "#### Permitem determinar como e quantas vezes os metacaracteres aparecem\n",
        "\n",
        "*   **[ ]** Opcional entre os que estão dentro dos colchetes\n",
        "*   **( )** Captura grupos de caracteres\n",
        "*   **\\*** Pode aparecer zero ou mais vezes\n",
        "*   **?** Pode aparecer zero ou uma vez\n",
        "*   **+** Pode aparecer uma ou mais vezes\n",
        "*   **{*m*,*n*}** Pode aparecer de *m* a *n* vezes\n",
        "*   **|** Ou\n",
        "\n",
        "### Exemplo\n",
        "\n",
        "\n",
        "*   <font color='red'>adeldivojr</font><font color='green'>@</font><font color='yellow'>gmail</font><font color='orange'>.</font><font color='blue'>com</font>\n",
        "\n",
        "*   Expressão regular que detecta e-mails: <font color='red'>\\w+</font><font color='green'>@</font><font color='yellow'>\\w+</font><font color='orange'>\\\\.</font><font color='blue'>\\w+</font>\n",
        "\n",
        "\n",
        "\n",
        "\n",
        "\n",
        "\n",
        "\n",
        "\n",
        "\n",
        "\n"
      ],
      "metadata": {
        "id": "_DsrNe8q6-p-"
      }
    },
    {
      "cell_type": "markdown",
      "source": [
        "## Exemplos Práticos\n"
      ],
      "metadata": {
        "id": "G4OUfspICIeQ"
      }
    },
    {
      "cell_type": "markdown",
      "source": [
        "\n",
        "### Função search"
      ],
      "metadata": {
        "id": "z6plexSBCVcW"
      }
    },
    {
      "cell_type": "code",
      "source": [
        "import re"
      ],
      "metadata": {
        "id": "AXC74kUaCRz_"
      },
      "execution_count": 1,
      "outputs": []
    },
    {
      "cell_type": "code",
      "source": [
        "frase = 'Olá, meu número de telefone é (42)0010-0000'"
      ],
      "metadata": {
        "id": "tN_3zhQOCiUP"
      },
      "execution_count": 4,
      "outputs": []
    },
    {
      "cell_type": "code",
      "source": [
        "re.search('\\(\\d{2}\\)\\d{4,5}-\\d{4}', frase)"
      ],
      "metadata": {
        "colab": {
          "base_uri": "https://localhost:8080/"
        },
        "id": "rL5WYfHOCvsL",
        "outputId": "fb730892-90b5-4640-e998-6d444706231c"
      },
      "execution_count": 5,
      "outputs": [
        {
          "output_type": "execute_result",
          "data": {
            "text/plain": [
              "<re.Match object; span=(30, 43), match='(42)0010-0000'>"
            ]
          },
          "metadata": {},
          "execution_count": 5
        }
      ]
    },
    {
      "cell_type": "markdown",
      "source": [
        "* span=(30, 43) indica que a expressão está localizada na posição 30 até a 43 da string"
      ],
      "metadata": {
        "id": "wh4lVlxTDb2i"
      }
    },
    {
      "cell_type": "code",
      "source": [
        "frase = 'A placa de carro que eu anotei durante o acidente foi FrT-1998'"
      ],
      "metadata": {
        "id": "MIwfAxRUDtoA"
      },
      "execution_count": 8,
      "outputs": []
    },
    {
      "cell_type": "code",
      "source": [
        "re.search('[A-Za-z]{3}-\\d{4}', frase)"
      ],
      "metadata": {
        "colab": {
          "base_uri": "https://localhost:8080/"
        },
        "id": "orTqd3CzD1xW",
        "outputId": "43a1c792-6887-4ce9-e9ff-faf955f5ce30"
      },
      "execution_count": 9,
      "outputs": [
        {
          "output_type": "execute_result",
          "data": {
            "text/plain": [
              "<re.Match object; span=(54, 62), match='FrT-1998'>"
            ]
          },
          "metadata": {},
          "execution_count": 9
        }
      ]
    },
    {
      "cell_type": "code",
      "source": [
        "email = 'Entre em contato, meu email é teste@teste.com'"
      ],
      "metadata": {
        "id": "TyAI8t2OEcME"
      },
      "execution_count": 10,
      "outputs": []
    },
    {
      "cell_type": "code",
      "source": [
        "re.search('\\w+@\\w+\\.\\w+', email)"
      ],
      "metadata": {
        "colab": {
          "base_uri": "https://localhost:8080/"
        },
        "id": "3uI6Q_tvEjkZ",
        "outputId": "821ffe4f-be60-438e-c758-8310bc6dfbb3"
      },
      "execution_count": 13,
      "outputs": [
        {
          "output_type": "execute_result",
          "data": {
            "text/plain": [
              "<re.Match object; span=(30, 45), match='teste@teste.com'>"
            ]
          },
          "metadata": {},
          "execution_count": 13
        }
      ]
    },
    {
      "cell_type": "markdown",
      "source": [
        "### Função match"
      ],
      "metadata": {
        "id": "oeEX3W-lFBit"
      }
    },
    {
      "cell_type": "code",
      "source": [
        "frase1 = 'A placa de carro que eu anotei durante a batida foi FRT-1998'"
      ],
      "metadata": {
        "id": "MP8_cpEOFF1j"
      },
      "execution_count": 15,
      "outputs": []
    },
    {
      "cell_type": "code",
      "source": [
        "print(re.match('[A-Za-z]{3}-\\d{4}', frase1))"
      ],
      "metadata": {
        "colab": {
          "base_uri": "https://localhost:8080/"
        },
        "id": "l2onQMCBFehl",
        "outputId": "11c60b5f-5c7c-4205-c3f4-d661c3fd43b1"
      },
      "execution_count": 16,
      "outputs": [
        {
          "output_type": "stream",
          "name": "stdout",
          "text": [
            "None\n"
          ]
        }
      ]
    },
    {
      "cell_type": "code",
      "source": [
        "frase2 = 'FRT-1998 é a placa do carro'"
      ],
      "metadata": {
        "id": "qhAMnmHWFWGy"
      },
      "execution_count": 17,
      "outputs": []
    },
    {
      "cell_type": "code",
      "source": [
        "print(re.match('[A-Za-z]{3}-\\d{4}', frase2))"
      ],
      "metadata": {
        "colab": {
          "base_uri": "https://localhost:8080/"
        },
        "id": "ATGrlr7EFoJt",
        "outputId": "bf34ef83-50d0-417b-be26-c7317213a027"
      },
      "execution_count": 18,
      "outputs": [
        {
          "output_type": "stream",
          "name": "stdout",
          "text": [
            "<re.Match object; span=(0, 8), match='FRT-1998'>\n"
          ]
        }
      ]
    },
    {
      "cell_type": "markdown",
      "source": [
        "### Função findall"
      ],
      "metadata": {
        "id": "nbM_IMRFFtGn"
      }
    },
    {
      "cell_type": "code",
      "source": [
        "frase3 = 'Meu número de telefone atual é (42)0000-0000. O número (56)11111-1111 é o antigo'"
      ],
      "metadata": {
        "id": "uTEwwRDRFwUQ"
      },
      "execution_count": 19,
      "outputs": []
    },
    {
      "cell_type": "code",
      "source": [
        "re.findall('\\(\\d{2}\\)\\d{4,5}-\\d{4}', frase3)"
      ],
      "metadata": {
        "colab": {
          "base_uri": "https://localhost:8080/"
        },
        "id": "x28rchJtF_QY",
        "outputId": "6d9d1d1b-f472-4f20-82d2-bdb512bd9bb2"
      },
      "execution_count": 20,
      "outputs": [
        {
          "output_type": "execute_result",
          "data": {
            "text/plain": [
              "['(42)0000-0000', '(56)11111-1111']"
            ]
          },
          "metadata": {},
          "execution_count": 20
        }
      ]
    },
    {
      "cell_type": "code",
      "source": [
        "emails = '''Nome: Teste 1\n",
        "email: teste@teste.com\n",
        "Nome: Tete 2\n",
        "email: teste2@teste.com\n",
        "Nome: Teste 3\n",
        "email: teste3@teste.com.br\n",
        "'''"
      ],
      "metadata": {
        "id": "rxY9gI9uGJQu"
      },
      "execution_count": 21,
      "outputs": []
    },
    {
      "cell_type": "code",
      "source": [
        "re.findall('\\w+@\\w+\\.\\w*', emails)"
      ],
      "metadata": {
        "colab": {
          "base_uri": "https://localhost:8080/"
        },
        "id": "DD9mmgRTGlLH",
        "outputId": "f12b46b8-445b-4929-c92e-f0decec33379"
      },
      "execution_count": 22,
      "outputs": [
        {
          "output_type": "execute_result",
          "data": {
            "text/plain": [
              "['teste@teste.com', 'teste2@teste.com', 'teste3@teste.com']"
            ]
          },
          "metadata": {},
          "execution_count": 22
        }
      ]
    }
  ]
}