{
  "nbformat": 4,
  "nbformat_minor": 0,
  "metadata": {
    "colab": {
      "provenance": [],
      "authorship_tag": "ABX9TyNjrqsyq7IzwXbYbC1caapR",
      "include_colab_link": true
    },
    "kernelspec": {
      "name": "python3",
      "display_name": "Python 3"
    },
    "language_info": {
      "name": "python"
    }
  },
  "cells": [
    {
      "cell_type": "markdown",
      "metadata": {
        "id": "view-in-github",
        "colab_type": "text"
      },
      "source": [
        "<a href=\"https://colab.research.google.com/github/aasjunior/UdemyEstruturaDados_Python/blob/main/exercicios/Python_Exercicios_Colecoes.ipynb\" target=\"_parent\"><img src=\"https://colab.research.google.com/assets/colab-badge.svg\" alt=\"Open In Colab\"/></a>"
      ]
    },
    {
      "cell_type": "markdown",
      "source": [
        "## **Exercícios**:\n",
        "\n",
        "\n",
        "1.  **Lista**: Crie uma estrutura de repetição para fazer a leitura de 5 números inteiros e os armazene dentro de uma lista. Após a leitura, crie outra estrutura de repetição para somar todos os valores digitados"
      ],
      "metadata": {
        "id": "C-PRtDTN8vWI"
      }
    },
    {
      "cell_type": "code",
      "execution_count": 2,
      "metadata": {
        "colab": {
          "base_uri": "https://localhost:8080/"
        },
        "id": "lS9N5WxK8tMf",
        "outputId": "4dfca3a9-6cbf-4819-b35c-de660c594c4b"
      },
      "outputs": [
        {
          "name": "stdout",
          "output_type": "stream",
          "text": [
            "Digite o valor: 1\n",
            "Digite o valor: 2\n",
            "Digite o valor: 3\n",
            "Digite o valor: 4\n",
            "Digite o valor: 5\n"
          ]
        }
      ],
      "source": [
        "lista = []\n",
        "for _ in range(1, 6):\n",
        "  valor = int(input('Digite o valor: '))\n",
        "  lista.append(valor)"
      ]
    },
    {
      "cell_type": "code",
      "source": [
        "lista"
      ],
      "metadata": {
        "colab": {
          "base_uri": "https://localhost:8080/"
        },
        "id": "Mx_Utzq4-MTI",
        "outputId": "0a0eb10f-ed57-40dc-c6e4-2ffe7a9d91a7"
      },
      "execution_count": 3,
      "outputs": [
        {
          "output_type": "execute_result",
          "data": {
            "text/plain": [
              "[1, 2, 3, 4, 5]"
            ]
          },
          "metadata": {},
          "execution_count": 3
        }
      ]
    },
    {
      "cell_type": "code",
      "source": [
        "soma = 0\n",
        "for i in range(len(lista)):\n",
        "  #print(lista[i])\n",
        "  soma += lista[i]\n",
        "print(f'Soma: {soma}')"
      ],
      "metadata": {
        "colab": {
          "base_uri": "https://localhost:8080/"
        },
        "id": "270IY_Tx-PFh",
        "outputId": "fdfe0c4d-372c-4d9f-99de-b47284149d11"
      },
      "execution_count": 4,
      "outputs": [
        {
          "output_type": "stream",
          "name": "stdout",
          "text": [
            "Soma: 15\n"
          ]
        }
      ]
    },
    {
      "cell_type": "markdown",
      "source": [
        "Convertendo para formato numpy array"
      ],
      "metadata": {
        "id": "apFnt22u-rRW"
      }
    },
    {
      "cell_type": "code",
      "source": [
        "import numpy as np\n",
        "np.array(lista).sum()"
      ],
      "metadata": {
        "colab": {
          "base_uri": "https://localhost:8080/"
        },
        "id": "fLXlKqgN-veF",
        "outputId": "2f8710b3-b216-4679-9347-a6e0ad2a6b4e"
      },
      "execution_count": 5,
      "outputs": [
        {
          "output_type": "execute_result",
          "data": {
            "text/plain": [
              "15"
            ]
          },
          "metadata": {},
          "execution_count": 5
        }
      ]
    },
    {
      "cell_type": "markdown",
      "source": [
        "2.   **Dicionário**: Crie um dicionário para armazenar o nome e a nota de 3 alunos, fazendo a leitura dos valores por meio de uma estrutura de repetição. Depois, crie uma nova estrutura de repetição para somar todas as notas e retornar a média"
      ],
      "metadata": {
        "id": "bZwNUjr9_Rzw"
      }
    },
    {
      "cell_type": "code",
      "source": [
        "alunos = {}\n",
        "for _ in range(1, 4):\n",
        "  nome = input('Digite o nome: ')\n",
        "  nota = float(input('Digite a nota: '))\n",
        "  alunos[nome] = nota"
      ],
      "metadata": {
        "colab": {
          "base_uri": "https://localhost:8080/"
        },
        "id": "5vxp9UY5_Tim",
        "outputId": "db82ec27-619f-4e3e-a82b-44669773d16b"
      },
      "execution_count": 6,
      "outputs": [
        {
          "name": "stdout",
          "output_type": "stream",
          "text": [
            "Digite o nome: João\n",
            "Digite a nota: 8\n",
            "Digite o nome: Maria\n",
            "Digite a nota: 10\n",
            "Digite o nome: Pedro\n",
            "Digite a nota: 7\n"
          ]
        }
      ]
    },
    {
      "cell_type": "code",
      "source": [
        "alunos.values()"
      ],
      "metadata": {
        "colab": {
          "base_uri": "https://localhost:8080/"
        },
        "id": "ngnMVdS-_yjd",
        "outputId": "13be4a1e-9b25-4a9a-c5a9-e23ea51ca10b"
      },
      "execution_count": 7,
      "outputs": [
        {
          "output_type": "execute_result",
          "data": {
            "text/plain": [
              "dict_values([8.0, 10.0, 7.0])"
            ]
          },
          "metadata": {},
          "execution_count": 7
        }
      ]
    },
    {
      "cell_type": "code",
      "source": [
        "soma = 0\n",
        "for nota in alunos.values():\n",
        "  #print(nota)\n",
        "  soma += nota\n",
        "print(f'Média: {soma / 3}')"
      ],
      "metadata": {
        "colab": {
          "base_uri": "https://localhost:8080/"
        },
        "id": "U8m1Ip3P_9Ka",
        "outputId": "9bb1b65b-ce73-4065-d6a6-adc55cc0440d"
      },
      "execution_count": 9,
      "outputs": [
        {
          "output_type": "stream",
          "name": "stdout",
          "text": [
            "8.0\n",
            "10.0\n",
            "7.0\n",
            "Média: 8.333333333333334\n"
          ]
        }
      ]
    },
    {
      "cell_type": "markdown",
      "source": [
        "\n",
        "3.   **Matriz**: Dada a matriz abaixo, construa uma estrutura de repetição para percorrer e somar todos os elementos da matriz\n",
        "\n"
      ],
      "metadata": {
        "id": "YxUIROfy9bkl"
      }
    },
    {
      "cell_type": "code",
      "source": [
        "matriz = np.array([[3, 4, 1], [3, 1, 5]])\n",
        "matriz"
      ],
      "metadata": {
        "colab": {
          "base_uri": "https://localhost:8080/"
        },
        "id": "dCHnhJ3e_Cd_",
        "outputId": "00b2e02d-2120-4653-f7dd-3f3e858d6ec9"
      },
      "execution_count": 10,
      "outputs": [
        {
          "output_type": "execute_result",
          "data": {
            "text/plain": [
              "array([[3, 4, 1],\n",
              "       [3, 1, 5]])"
            ]
          },
          "metadata": {},
          "execution_count": 10
        }
      ]
    },
    {
      "cell_type": "code",
      "source": [
        "matriz.shape"
      ],
      "metadata": {
        "colab": {
          "base_uri": "https://localhost:8080/"
        },
        "id": "xbQhWN1sAtyr",
        "outputId": "efd2e22a-44ba-4470-8109-f907565efb74"
      },
      "execution_count": 11,
      "outputs": [
        {
          "output_type": "execute_result",
          "data": {
            "text/plain": [
              "(2, 3)"
            ]
          },
          "metadata": {},
          "execution_count": 11
        }
      ]
    },
    {
      "cell_type": "code",
      "source": [
        "soma = 0\n",
        "for i in range(matriz.shape[0]):\n",
        "  for j in range(matriz.shape[1]):\n",
        "    soma += matriz[i][j]\n",
        "print(f'Soma: {soma}')"
      ],
      "metadata": {
        "colab": {
          "base_uri": "https://localhost:8080/"
        },
        "id": "wgjb8rgjAwYW",
        "outputId": "1765f26a-a3ed-492e-ab52-64a959639fba"
      },
      "execution_count": 12,
      "outputs": [
        {
          "output_type": "stream",
          "name": "stdout",
          "text": [
            "Soma: 17\n"
          ]
        }
      ]
    }
  ]
}