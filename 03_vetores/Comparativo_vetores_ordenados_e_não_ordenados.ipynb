{
  "nbformat": 4,
  "nbformat_minor": 0,
  "metadata": {
    "colab": {
      "provenance": [],
      "authorship_tag": "ABX9TyMA6YRnXN6ZNH8tEwkoW+i4",
      "include_colab_link": true
    },
    "kernelspec": {
      "name": "python3",
      "display_name": "Python 3"
    },
    "language_info": {
      "name": "python"
    }
  },
  "cells": [
    {
      "cell_type": "markdown",
      "metadata": {
        "id": "view-in-github",
        "colab_type": "text"
      },
      "source": [
        "<a href=\"https://colab.research.google.com/github/aasjunior/UdemyEstruturaDados_Python/blob/main/03_vetores/Comparativo_vetores_ordenados_e_n%C3%A3o_ordenados.ipynb\" target=\"_parent\"><img src=\"https://colab.research.google.com/assets/colab-badge.svg\" alt=\"Open In Colab\"/></a>"
      ]
    },
    {
      "cell_type": "markdown",
      "source": [
        "## Comparativo"
      ],
      "metadata": {
        "id": "eEnNjsHe-Iig"
      }
    },
    {
      "cell_type": "markdown",
      "source": [
        "### Vetor ordenado\n",
        "\n",
        "\n",
        "*   Tempo de pesquisa de um vetor ordenado é mais rápido do que em um vetor não ordenado\n",
        "*   A inserção leva mais tempo, pois is itens de dados devem ser movidos para criar espaço\n",
        "*   As remoções são lentas em ambos os tipos de vetores, pois os itens devem ser movidos para preencher o \"buraco\". A remoçao no ordenado tende a ser mais rápida\n",
        "*   Vetores ordenados são úteis quando pesquisas são frequentes, mas inserções e remoções são menos comuns\n",
        "\n"
      ],
      "metadata": {
        "id": "SvjnGwsG-NjG"
      }
    },
    {
      "cell_type": "markdown",
      "source": [
        "## Vetor não ordenado"
      ],
      "metadata": {
        "id": "KPAIvhPl2NBm"
      }
    },
    {
      "cell_type": "code",
      "execution_count": 1,
      "metadata": {
        "id": "arkOwE9M2Db2"
      },
      "outputs": [],
      "source": [
        "import numpy as np"
      ]
    },
    {
      "cell_type": "code",
      "source": [
        "class VetorNaoOrdenado:\n",
        "  def __init__(self, capacidade):\n",
        "    self.capacidade = capacidade\n",
        "\n",
        "    # ponteiro\n",
        "    self.ultima_posicao = -1\n",
        "    self.valores = np.empty(self.capacidade, dtype=float)\n",
        "\n",
        "  # O(n)\n",
        "  def imprime(self):\n",
        "    if self.ultima_posicao == -1:\n",
        "      print('O vetor está vazio')\n",
        "    else:\n",
        "      for i in range(self.ultima_posicao + 1):\n",
        "        print(i, ' - ', self.valores[i])\n",
        "\n",
        "  # O(1)\n",
        "  def insere(self, valor):\n",
        "    if self.ultima_posicao == self.capacidade -1:\n",
        "      print('capacidade máxima atingida')\n",
        "    else:\n",
        "      self.ultima_posicao += 1\n",
        "      self.valores[self.ultima_posicao] = valor\n",
        "\n",
        "  # O(n)\n",
        "  def pesquisar(self, valor):\n",
        "    for i in range(self.ultima_posicao + 1):\n",
        "      if valor == self.valores[i]:\n",
        "        return i\n",
        "    return -1\n",
        "\n",
        "  # O(n)\n",
        "  def excluir(self, valor):\n",
        "    posicao = self.pesquisar(valor)\n",
        "    if posicao == -1:\n",
        "      return -1\n",
        "    else:\n",
        "      for i in range(posicao, self.ultima_posicao):\n",
        "        self.valores[i] = self.valores[i+1]\n",
        "      self.ultima_posicao -= 1"
      ],
      "metadata": {
        "id": "QnOiscKLz4Y6"
      },
      "execution_count": 2,
      "outputs": []
    },
    {
      "cell_type": "markdown",
      "source": [
        "## Vetor ordenado"
      ],
      "metadata": {
        "id": "BJXjccHt2YwY"
      }
    },
    {
      "cell_type": "code",
      "source": [
        "class VetorOrdenado:\n",
        "  def __init__(self, capacidade):\n",
        "    self.capacidade = capacidade\n",
        "    self.ultima_posicao = -1\n",
        "    self.valores = np.empty(self.capacidade, dtype=float)\n",
        "\n",
        "  # O(n)\n",
        "  def imprime(self):\n",
        "    if self.ultima_posicao == -1:\n",
        "      print('O vetor está vazio')\n",
        "    else:\n",
        "      for i in range(self.ultima_posicao + 1):\n",
        "        print(i, ' - ', self.valores[i])\n",
        "\n",
        "  # O(n)\n",
        "  def insere(self, valor):\n",
        "    if self.ultima_posicao == self.capacidade - 1:\n",
        "      print('Capacidade máxima atingida')\n",
        "      return\n",
        "\n",
        "    posicao = 0\n",
        "    for i in range(self.ultima_posicao + 1):\n",
        "      posicao = i\n",
        "      if self.valores[i] > valor:\n",
        "        break\n",
        "      if i == self.ultima_posicao:\n",
        "        posicao = i + 1\n",
        "\n",
        "    x = self.ultima_posicao\n",
        "    while x >= posicao:\n",
        "      self.valores[x+1] = self.valores[x]\n",
        "      x -= 1\n",
        "\n",
        "    self.valores[posicao] = valor\n",
        "    self.ultima_posicao += 1\n",
        "\n",
        "  def pesquisa_linear(self, valor):\n",
        "    for i in range(self.ultima_posicao + 1):\n",
        "      if self.valores[i] > valor:\n",
        "        return -1\n",
        "      elif self.valores[i] == valor:\n",
        "        return i\n",
        "      elif i == self.ultima_posicao:\n",
        "        return -1\n",
        "\n",
        "  # O(log n)\n",
        "  def pesquisa_binaria(self, valor):\n",
        "    limite_inferior = 0\n",
        "    limite_superior = self.ultima_posicao\n",
        "\n",
        "  # O(n)\n",
        "  def excluir(self, valor):\n",
        "    posicao = self.pesquisar(valor)\n",
        "    if posicao == -1:\n",
        "      return -1\n",
        "    else:\n",
        "      for i in range(posicao, self.ultima_posicao):\n",
        "        self.valores[i] = self.valores[i+1]\n",
        "      self.ultima_posicao -= 1"
      ],
      "metadata": {
        "id": "uYx0WRQrLZVz"
      },
      "execution_count": 29,
      "outputs": []
    },
    {
      "cell_type": "markdown",
      "source": [
        "### Inserção"
      ],
      "metadata": {
        "id": "SCjfwYHe2iz2"
      }
    },
    {
      "cell_type": "code",
      "source": [
        "import random as rd"
      ],
      "metadata": {
        "id": "cV1WV_a12iAG"
      },
      "execution_count": 30,
      "outputs": []
    },
    {
      "cell_type": "code",
      "source": [
        "round(rd.random(),4)"
      ],
      "metadata": {
        "colab": {
          "base_uri": "https://localhost:8080/"
        },
        "id": "deolr4Wz2odt",
        "outputId": "1fb521f7-b33b-4ae4-c3bc-0ade993bf5ea"
      },
      "execution_count": 31,
      "outputs": [
        {
          "output_type": "execute_result",
          "data": {
            "text/plain": [
              "0.2006"
            ]
          },
          "metadata": {},
          "execution_count": 31
        }
      ]
    },
    {
      "cell_type": "code",
      "source": [
        "elementos = []\n",
        "for _ in range(10000):\n",
        "  elementos.append(round(rd.random(), 4))"
      ],
      "metadata": {
        "id": "ucpnQj5k23TE"
      },
      "execution_count": 32,
      "outputs": []
    },
    {
      "cell_type": "code",
      "source": [
        "len(elementos)"
      ],
      "metadata": {
        "colab": {
          "base_uri": "https://localhost:8080/"
        },
        "id": "gbr00w3B3Ehs",
        "outputId": "db2c9eaf-0769-471e-dc03-e530c6fc8dbe"
      },
      "execution_count": 33,
      "outputs": [
        {
          "output_type": "execute_result",
          "data": {
            "text/plain": [
              "10000"
            ]
          },
          "metadata": {},
          "execution_count": 33
        }
      ]
    },
    {
      "cell_type": "code",
      "source": [
        "elementos[0:10]"
      ],
      "metadata": {
        "colab": {
          "base_uri": "https://localhost:8080/"
        },
        "id": "h62QNhE-3KIU",
        "outputId": "6818e4e0-5d00-4aee-fff2-07645c3633e2"
      },
      "execution_count": 34,
      "outputs": [
        {
          "output_type": "execute_result",
          "data": {
            "text/plain": [
              "[0.174, 0.6268, 0.8658, 0.237, 0.2054, 0.547, 0.3081, 0.7099, 0.0225, 0.375]"
            ]
          },
          "metadata": {},
          "execution_count": 34
        }
      ]
    },
    {
      "cell_type": "code",
      "source": [
        "def insere_nao_ordenado(lista):\n",
        "  vetor = VetorNaoOrdenado(len(lista))\n",
        "  for i in lista:\n",
        "    vetor.insere(i)\n",
        "  return vetor"
      ],
      "metadata": {
        "id": "V_-exkVC3Pu0"
      },
      "execution_count": 35,
      "outputs": []
    },
    {
      "cell_type": "code",
      "source": [
        "%timeit insere_nao_ordenado(elementos)"
      ],
      "metadata": {
        "colab": {
          "base_uri": "https://localhost:8080/"
        },
        "id": "gjOuea2b3dqe",
        "outputId": "dec72f80-b740-4d6e-dc94-6f582079e864"
      },
      "execution_count": 36,
      "outputs": [
        {
          "output_type": "stream",
          "name": "stdout",
          "text": [
            "3.86 ms ± 155 µs per loop (mean ± std. dev. of 7 runs, 100 loops each)\n"
          ]
        }
      ]
    },
    {
      "cell_type": "code",
      "source": [
        "def insere_ordenado(lista):\n",
        "  vetor = VetorOrdenado(len(lista))\n",
        "  for i in lista:\n",
        "    vetor.insere(i)\n",
        "  return vetor"
      ],
      "metadata": {
        "id": "gN4ptUz33mqE"
      },
      "execution_count": 37,
      "outputs": []
    },
    {
      "cell_type": "code",
      "source": [
        "%timeit insere_ordenado(elementos)"
      ],
      "metadata": {
        "colab": {
          "base_uri": "https://localhost:8080/"
        },
        "id": "v6Bfcv813zY9",
        "outputId": "f8990765-4645-4cca-aae3-defd3e41a66c"
      },
      "execution_count": 38,
      "outputs": [
        {
          "output_type": "stream",
          "name": "stdout",
          "text": [
            "14.4 s ± 452 ms per loop (mean ± std. dev. of 7 runs, 1 loop each)\n"
          ]
        }
      ]
    },
    {
      "cell_type": "markdown",
      "source": [
        "### Pesquisa"
      ],
      "metadata": {
        "id": "ngpNHwpm4HHE"
      }
    },
    {
      "cell_type": "code",
      "source": [
        "vetor_nao_ordenado = insere_nao_ordenado(elementos)"
      ],
      "metadata": {
        "id": "OlUWu1So4JEb"
      },
      "execution_count": 40,
      "outputs": []
    },
    {
      "cell_type": "code",
      "source": [
        "len(vetor_nao_ordenado.valores)"
      ],
      "metadata": {
        "colab": {
          "base_uri": "https://localhost:8080/"
        },
        "id": "VcTEp70T4ZNK",
        "outputId": "69bdd058-e581-4cba-82be-d8a6b43faff7"
      },
      "execution_count": 41,
      "outputs": [
        {
          "output_type": "execute_result",
          "data": {
            "text/plain": [
              "10000"
            ]
          },
          "metadata": {},
          "execution_count": 41
        }
      ]
    },
    {
      "cell_type": "code",
      "source": [
        "vetor_ordenado = insere_ordenado(elementos)\n",
        "len(vetor_ordenado.valores)"
      ],
      "metadata": {
        "colab": {
          "base_uri": "https://localhost:8080/"
        },
        "id": "gJlwWaDP4kk7",
        "outputId": "28fafb02-beb5-4150-d140-ea7880d3b0a9"
      },
      "execution_count": 42,
      "outputs": [
        {
          "output_type": "execute_result",
          "data": {
            "text/plain": [
              "10000"
            ]
          },
          "metadata": {},
          "execution_count": 42
        }
      ]
    },
    {
      "cell_type": "code",
      "source": [
        "pesquisa = []\n",
        "for _ in range(10000):\n",
        "  pesquisa.append(round(rd.random(), 4))\n",
        "len(pesquisa)"
      ],
      "metadata": {
        "colab": {
          "base_uri": "https://localhost:8080/"
        },
        "id": "ODR-8WlI41NC",
        "outputId": "c92ffdc3-e996-4ecf-a17d-b698cc628e9c"
      },
      "execution_count": 43,
      "outputs": [
        {
          "output_type": "execute_result",
          "data": {
            "text/plain": [
              "10000"
            ]
          },
          "metadata": {},
          "execution_count": 43
        }
      ]
    },
    {
      "cell_type": "code",
      "source": [
        "def pesquisa_nao_ordenado(lista):\n",
        "  for i in lista:\n",
        "    vetor_nao_ordenado.pesquisar(i)"
      ],
      "metadata": {
        "id": "GD1sfHQ25Go3"
      },
      "execution_count": 44,
      "outputs": []
    },
    {
      "cell_type": "code",
      "source": [
        "%timeit pesquisa_nao_ordenado(pesquisa)"
      ],
      "metadata": {
        "colab": {
          "base_uri": "https://localhost:8080/"
        },
        "id": "RU-2ZvXr5hhx",
        "outputId": "b916640b-47f2-4de4-9716-d84d044137c7"
      },
      "execution_count": 45,
      "outputs": [
        {
          "output_type": "stream",
          "name": "stdout",
          "text": [
            "14.9 s ± 546 ms per loop (mean ± std. dev. of 7 runs, 1 loop each)\n"
          ]
        }
      ]
    },
    {
      "cell_type": "code",
      "source": [
        "def pesquisa_ordenado_binaria(lista):\n",
        "  for i in lista:\n",
        "    vetor_ordenado.pesquisa_binaria(i)"
      ],
      "metadata": {
        "id": "uV9Eyg6T52Hk"
      },
      "execution_count": 46,
      "outputs": []
    },
    {
      "cell_type": "code",
      "source": [
        "%timeit pesquisa_ordenado_binaria(pesquisa)"
      ],
      "metadata": {
        "colab": {
          "base_uri": "https://localhost:8080/"
        },
        "id": "0Aq0fT4E6H2Z",
        "outputId": "05a655ae-2dd1-4d0a-caf8-5abc2c433669"
      },
      "execution_count": 47,
      "outputs": [
        {
          "output_type": "stream",
          "name": "stdout",
          "text": [
            "1.2 ms ± 15.5 µs per loop (mean ± std. dev. of 7 runs, 1000 loops each)\n"
          ]
        }
      ]
    }
  ]
}