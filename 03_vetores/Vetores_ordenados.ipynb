{
  "nbformat": 4,
  "nbformat_minor": 0,
  "metadata": {
    "colab": {
      "provenance": [],
      "authorship_tag": "ABX9TyNxTRMKesiLJ6ltgZ8Y+BNJ",
      "include_colab_link": true
    },
    "kernelspec": {
      "name": "python3",
      "display_name": "Python 3"
    },
    "language_info": {
      "name": "python"
    }
  },
  "cells": [
    {
      "cell_type": "markdown",
      "metadata": {
        "id": "view-in-github",
        "colab_type": "text"
      },
      "source": [
        "<a href=\"https://colab.research.google.com/github/aasjunior/UdemyEstruturaDados_Python/blob/main/03_vetores/Vetores_ordenados.ipynb\" target=\"_parent\"><img src=\"https://colab.research.google.com/assets/colab-badge.svg\" alt=\"Open In Colab\"/></a>"
      ]
    },
    {
      "cell_type": "markdown",
      "source": [
        "## Vetores Ordenados\n",
        "\n",
        "*   Os dados estão organizados na ordem ascendente\n",
        "  *   Ex: `[ 1, 2, 4, 5, 8]`\n",
        "  * Vantagem: agiliza o tempo de pesquisa (busca binária)\n",
        "\n"
      ],
      "metadata": {
        "id": "I8WbHUv6G3N7"
      }
    },
    {
      "cell_type": "markdown",
      "source": [
        "#### Inserção\n",
        "\n",
        "\n",
        "*   Pesquisar uma média de N/2 elementos (pesquisa linear)\n",
        "  *   Pior caso: N\n",
        "*   Mover os elementos restantes (N/2 passos)\n",
        "  *   Pior caso: N\n",
        "*   Big-O: O(2n) = O(n)\n",
        "\n",
        "\n",
        "\n",
        "\n"
      ],
      "metadata": {
        "id": "xzfF-btAG7Om"
      }
    },
    {
      "cell_type": "markdown",
      "source": [
        "#### Pesquisa Linear\n",
        "\n",
        "\n",
        "*   A pesquisa termina quando o primeiro item maior que o valor de pesquisa é atingido\n",
        "*   Como o vetor está ordenado, o algoritmo sabe que não há necessidade de procurar mais\n",
        "*   Pior caso: se o elemento não estiver no vetor ou na última posição\n",
        "*   Big-O: O(n)\n",
        "*   Vizualização:\n",
        "    * https://www.cs.usfca.edu/~galles/visualization/Search.html\n",
        "    * https://www.cs.usfca.edu/~galles/visualization/Algorithms.html\n",
        "\n"
      ],
      "metadata": {
        "id": "eloGAuxPJBi7"
      }
    },
    {
      "cell_type": "markdown",
      "source": [
        "#### Exclusão\n",
        "\n",
        "\n",
        "*   O algoritmo pode terminar na metade do caminho se não encontrar o item\n",
        "*   Pesquisar uma média de N/2 elementos (pesquisa linear)\n",
        "*   Mover os elementos restantes (N/2 passos)\n",
        "  * Pior caso: N\n",
        "*   Big-O: O(2n) = O(n)\n"
      ],
      "metadata": {
        "id": "k_qkXfS_KsRh"
      }
    },
    {
      "cell_type": "markdown",
      "source": [
        "## Implementação"
      ],
      "metadata": {
        "id": "n3SADFvpLNt9"
      }
    },
    {
      "cell_type": "code",
      "execution_count": 1,
      "metadata": {
        "id": "jAcEy5mkGzqp"
      },
      "outputs": [],
      "source": [
        "import numpy as np"
      ]
    },
    {
      "cell_type": "code",
      "source": [
        "class VetorOrdenado:\n",
        "  def __init__(self, capacidade):\n",
        "    self.capacidade = capacidade\n",
        "    self.ultima_posicao = -1\n",
        "    self.valores = np.empty(self.capacidade, dtype=int)\n",
        "\n",
        "  # O(n)\n",
        "  def imprime(self):\n",
        "    if self.ultima_posicao == -1:\n",
        "      print('O vetor está vazio')\n",
        "    else:\n",
        "      for i in range(self.ultima_posicao + 1):\n",
        "        print(i, ' - ', self.valores[i])\n",
        "\n",
        "  # O(n)\n",
        "  def insere(self, valor):\n",
        "    if self.ultima_posicao == self.capacidade - 1:\n",
        "      print('Capacidade máxima atingida')\n",
        "      return\n",
        "\n",
        "    posicao = 0\n",
        "    for i in range(self.ultima_posicao + 1):\n",
        "      posicao = i\n",
        "      if self.valores[i] > valor:\n",
        "        break\n",
        "      if i == self.ultima_posicao:\n",
        "        posicao = i + 1\n",
        "\n",
        "    x = self.ultima_posicao\n",
        "    while x >= posicao:\n",
        "      self.valores[x+1] = self.valores[x]\n",
        "      x -= 1\n",
        "\n",
        "    self.valores[posicao] = valor\n",
        "    self.ultima_posicao += 1\n",
        "\n",
        "  def pesquisar(self, valor):\n",
        "    for i in range(self.ultima_posicao + 1):\n",
        "      if self.valores[i] > valor or i == self.ultima_posicao:\n",
        "        return -1\n",
        "      elif self.valores[i] == valor:\n",
        "        return i"
      ],
      "metadata": {
        "id": "uYx0WRQrLZVz"
      },
      "execution_count": 28,
      "outputs": []
    },
    {
      "cell_type": "code",
      "source": [
        "vetor = VetorOrdenado(10)\n",
        "vetor.imprime()"
      ],
      "metadata": {
        "colab": {
          "base_uri": "https://localhost:8080/"
        },
        "id": "wUhAkXqFNhoE",
        "outputId": "a566ad20-6330-4429-d3a8-8db6abf2696d"
      },
      "execution_count": 29,
      "outputs": [
        {
          "output_type": "stream",
          "name": "stdout",
          "text": [
            "O vetor está vazio\n"
          ]
        }
      ]
    },
    {
      "cell_type": "code",
      "source": [
        "vetor.insere(6)\n",
        "vetor.imprime()"
      ],
      "metadata": {
        "colab": {
          "base_uri": "https://localhost:8080/"
        },
        "id": "V2DuG2ZbNphq",
        "outputId": "1392aa01-1192-47a6-e15d-fba53237c91e"
      },
      "execution_count": 30,
      "outputs": [
        {
          "output_type": "stream",
          "name": "stdout",
          "text": [
            "0  -  6\n"
          ]
        }
      ]
    },
    {
      "cell_type": "code",
      "source": [
        "vetor.insere(4)\n",
        "vetor.imprime()"
      ],
      "metadata": {
        "colab": {
          "base_uri": "https://localhost:8080/"
        },
        "id": "_TwIyFR7NvPq",
        "outputId": "7d0af0c2-c50b-445c-c8b1-ad8866ddf38c"
      },
      "execution_count": 31,
      "outputs": [
        {
          "output_type": "stream",
          "name": "stdout",
          "text": [
            "0  -  4\n",
            "1  -  6\n"
          ]
        }
      ]
    },
    {
      "cell_type": "code",
      "source": [
        "vetor.insere(3)\n",
        "vetor.imprime()"
      ],
      "metadata": {
        "colab": {
          "base_uri": "https://localhost:8080/"
        },
        "id": "jadpX2dJNy_3",
        "outputId": "2e099b38-5211-44de-9fd7-71e5c99ad9b8"
      },
      "execution_count": 32,
      "outputs": [
        {
          "output_type": "stream",
          "name": "stdout",
          "text": [
            "0  -  3\n",
            "1  -  4\n",
            "2  -  6\n"
          ]
        }
      ]
    },
    {
      "cell_type": "code",
      "source": [
        "vetor.insere(5)\n",
        "vetor.imprime()"
      ],
      "metadata": {
        "colab": {
          "base_uri": "https://localhost:8080/"
        },
        "id": "LxRy8M3tN2C-",
        "outputId": "a28f538e-b2dd-4c09-97a2-1d3eccefc5cc"
      },
      "execution_count": 33,
      "outputs": [
        {
          "output_type": "stream",
          "name": "stdout",
          "text": [
            "0  -  3\n",
            "1  -  4\n",
            "2  -  5\n",
            "3  -  6\n"
          ]
        }
      ]
    },
    {
      "cell_type": "code",
      "source": [
        "vetor.insere(8)\n",
        "vetor.imprime()"
      ],
      "metadata": {
        "colab": {
          "base_uri": "https://localhost:8080/"
        },
        "id": "O5Am5Q0YN5y-",
        "outputId": "f815c82f-52c7-4ad7-98d3-06e7bf0e9655"
      },
      "execution_count": 34,
      "outputs": [
        {
          "output_type": "stream",
          "name": "stdout",
          "text": [
            "0  -  3\n",
            "1  -  4\n",
            "2  -  5\n",
            "3  -  6\n",
            "4  -  8\n"
          ]
        }
      ]
    },
    {
      "cell_type": "code",
      "source": [
        "vetor.pesquisar(5)"
      ],
      "metadata": {
        "colab": {
          "base_uri": "https://localhost:8080/"
        },
        "id": "1aHmIPAfQFKt",
        "outputId": "db71595d-ac17-497e-c8e3-80f230edafa8"
      },
      "execution_count": 35,
      "outputs": [
        {
          "output_type": "execute_result",
          "data": {
            "text/plain": [
              "2"
            ]
          },
          "metadata": {},
          "execution_count": 35
        }
      ]
    },
    {
      "cell_type": "code",
      "source": [
        "vetor.pesquisar(2)"
      ],
      "metadata": {
        "colab": {
          "base_uri": "https://localhost:8080/"
        },
        "id": "ZGUeD8lnQTVK",
        "outputId": "ddbe1828-34c1-49f3-e98e-db2bcec3278f"
      },
      "execution_count": 36,
      "outputs": [
        {
          "output_type": "execute_result",
          "data": {
            "text/plain": [
              "-1"
            ]
          },
          "metadata": {},
          "execution_count": 36
        }
      ]
    },
    {
      "cell_type": "code",
      "source": [
        "vetor.pesquisar(9)"
      ],
      "metadata": {
        "colab": {
          "base_uri": "https://localhost:8080/"
        },
        "id": "tO2CznQKQYuK",
        "outputId": "1fd71d5b-15d1-4650-fd3b-0a14dbabb33f"
      },
      "execution_count": 37,
      "outputs": [
        {
          "output_type": "execute_result",
          "data": {
            "text/plain": [
              "-1"
            ]
          },
          "metadata": {},
          "execution_count": 37
        }
      ]
    },
    {
      "cell_type": "markdown",
      "source": [],
      "metadata": {
        "id": "G7Sx9BwEG0Tp"
      }
    }
  ]
}