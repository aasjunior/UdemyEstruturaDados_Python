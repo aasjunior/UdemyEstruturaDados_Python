{
  "nbformat": 4,
  "nbformat_minor": 0,
  "metadata": {
    "colab": {
      "provenance": [],
      "authorship_tag": "ABX9TyNLc/rNTim56bTmO4fFZ8wH",
      "include_colab_link": true
    },
    "kernelspec": {
      "name": "python3",
      "display_name": "Python 3"
    },
    "language_info": {
      "name": "python"
    }
  },
  "cells": [
    {
      "cell_type": "markdown",
      "metadata": {
        "id": "view-in-github",
        "colab_type": "text"
      },
      "source": [
        "<a href=\"https://colab.research.google.com/github/aasjunior/UdemyEstruturaDados_Python/blob/main/Manipulacao_arquivos.ipynb\" target=\"_parent\"><img src=\"https://colab.research.google.com/assets/colab-badge.svg\" alt=\"Open In Colab\"/></a>"
      ]
    },
    {
      "cell_type": "code",
      "execution_count": null,
      "metadata": {
        "id": "3npwsyDe1iS0"
      },
      "outputs": [],
      "source": []
    },
    {
      "cell_type": "markdown",
      "source": [
        "## Manipulação de arquivos"
      ],
      "metadata": {
        "id": "r4n-TWcz1nA8"
      }
    },
    {
      "cell_type": "code",
      "source": [
        "with open('/content/frase.txt') as tex:\n",
        "  for linha in tex:\n",
        "    print(linha)"
      ],
      "metadata": {
        "colab": {
          "base_uri": "https://localhost:8080/"
        },
        "id": "qEGO2CKD2G4U",
        "outputId": "4e684d10-6a23-4946-df47-a746ae947f6c"
      },
      "execution_count": 1,
      "outputs": [
        {
          "output_type": "stream",
          "name": "stdout",
          "text": [
            "Olá,\n",
            "\n",
            "Estou aprendendo a linguagem python\n",
            "\n",
            "e estou gostando muito!\n"
          ]
        }
      ]
    },
    {
      "cell_type": "code",
      "source": [
        "with open('/content/frase.txt') as tex:\n",
        "  r = tex.readlines()\n",
        "\n",
        "r"
      ],
      "metadata": {
        "colab": {
          "base_uri": "https://localhost:8080/"
        },
        "id": "QI0dg_9o2b2A",
        "outputId": "98ed1e9e-b62c-4a3a-f0c3-a67f43a4ac94"
      },
      "execution_count": 3,
      "outputs": [
        {
          "output_type": "execute_result",
          "data": {
            "text/plain": [
              "['Olá,\\n', 'Estou aprendendo a linguagem python\\n', 'e estou gostando muito!']"
            ]
          },
          "metadata": {},
          "execution_count": 3
        }
      ]
    },
    {
      "cell_type": "code",
      "source": [
        "with open('texto2.txt', 'w') as texto:\n",
        "  texto.write('Olá a todos')"
      ],
      "metadata": {
        "id": "jCaEG8CO2qE6"
      },
      "execution_count": 4,
      "outputs": []
    },
    {
      "cell_type": "code",
      "source": [
        "with open('/content/texto2.txt', 'r') as texto:\n",
        "  for linha in texto:\n",
        "    print(linha)"
      ],
      "metadata": {
        "colab": {
          "base_uri": "https://localhost:8080/"
        },
        "id": "wHpWr3Yh3AhI",
        "outputId": "4dcf0487-5b55-4e26-bdf3-472f6ffaf768"
      },
      "execution_count": 5,
      "outputs": [
        {
          "output_type": "stream",
          "name": "stdout",
          "text": [
            "Olá a todos\n"
          ]
        }
      ]
    }
  ]
}