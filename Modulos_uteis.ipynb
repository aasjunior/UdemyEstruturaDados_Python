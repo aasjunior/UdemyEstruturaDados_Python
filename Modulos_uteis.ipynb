{
  "nbformat": 4,
  "nbformat_minor": 0,
  "metadata": {
    "colab": {
      "provenance": [],
      "include_colab_link": true
    },
    "kernelspec": {
      "name": "python3",
      "display_name": "Python 3"
    }
  },
  "cells": [
    {
      "cell_type": "markdown",
      "metadata": {
        "id": "view-in-github",
        "colab_type": "text"
      },
      "source": [
        "<a href=\"https://colab.research.google.com/github/aasjunior/UdemyEstruturaDados_Python/blob/main/Modulos_uteis.ipynb\" target=\"_parent\"><img src=\"https://colab.research.google.com/assets/colab-badge.svg\" alt=\"Open In Colab\"/></a>"
      ]
    },
    {
      "cell_type": "markdown",
      "metadata": {
        "id": "MwcHdTIT8XLe"
      },
      "source": [
        "# Módulos úteis"
      ]
    },
    {
      "cell_type": "markdown",
      "metadata": {
        "id": "WHdSo8Zh8dj3"
      },
      "source": [
        "## Biblioteca math\n",
        "\n",
        "https://docs.python.org/3/library/math.html"
      ]
    },
    {
      "cell_type": "code",
      "metadata": {
        "id": "u6cAQHQo-ksC"
      },
      "source": [
        "import math"
      ],
      "execution_count": null,
      "outputs": []
    },
    {
      "cell_type": "markdown",
      "source": [
        "Raiz quadrada:"
      ],
      "metadata": {
        "id": "GMRzLr8WHgBh"
      }
    },
    {
      "cell_type": "code",
      "metadata": {
        "id": "O2Dt-oX2-vAB",
        "colab": {
          "base_uri": "https://localhost:8080/",
          "height": 34
        },
        "outputId": "99a8b704-06e4-4978-a5d6-804b330fe7f5"
      },
      "source": [
        "math.sqrt(9)"
      ],
      "execution_count": null,
      "outputs": [
        {
          "output_type": "execute_result",
          "data": {
            "text/plain": [
              "3.0"
            ]
          },
          "metadata": {
            "tags": []
          },
          "execution_count": 2
        }
      ]
    },
    {
      "cell_type": "markdown",
      "source": [
        "Seno:"
      ],
      "metadata": {
        "id": "Fyn9WemFHu9_"
      }
    },
    {
      "cell_type": "code",
      "metadata": {
        "id": "oP6I2Go8-2rk",
        "colab": {
          "base_uri": "https://localhost:8080/",
          "height": 34
        },
        "outputId": "bdeb3777-8113-4a87-cc7b-27f633dd28c2"
      },
      "source": [
        "math.sin(45)"
      ],
      "execution_count": null,
      "outputs": [
        {
          "output_type": "execute_result",
          "data": {
            "text/plain": [
              "0.8509035245341184"
            ]
          },
          "metadata": {
            "tags": []
          },
          "execution_count": 3
        }
      ]
    },
    {
      "cell_type": "markdown",
      "source": [
        "Cosseno:"
      ],
      "metadata": {
        "id": "gwtxKhjVHxVw"
      }
    },
    {
      "cell_type": "code",
      "metadata": {
        "id": "lbGQPZyv-6Ol",
        "colab": {
          "base_uri": "https://localhost:8080/",
          "height": 34
        },
        "outputId": "ff2b83aa-2a31-493c-9deb-571b7b778fb3"
      },
      "source": [
        "math.cos(45)"
      ],
      "execution_count": null,
      "outputs": [
        {
          "output_type": "execute_result",
          "data": {
            "text/plain": [
              "0.5253219888177297"
            ]
          },
          "metadata": {
            "tags": []
          },
          "execution_count": 4
        }
      ]
    },
    {
      "cell_type": "markdown",
      "source": [
        "Logaritmo (valor, base):"
      ],
      "metadata": {
        "id": "F5-YczpqH0pY"
      }
    },
    {
      "cell_type": "code",
      "metadata": {
        "id": "_SOdHMQH-9j6",
        "colab": {
          "base_uri": "https://localhost:8080/",
          "height": 34
        },
        "outputId": "1e87f14c-848e-459f-aa8f-59c007e948b6"
      },
      "source": [
        "math.log(1000, 10)"
      ],
      "execution_count": null,
      "outputs": [
        {
          "output_type": "execute_result",
          "data": {
            "text/plain": [
              "2.9999999999999996"
            ]
          },
          "metadata": {
            "tags": []
          },
          "execution_count": 5
        }
      ]
    },
    {
      "cell_type": "code",
      "metadata": {
        "id": "0l-7gwBD_D79",
        "colab": {
          "base_uri": "https://localhost:8080/",
          "height": 34
        },
        "outputId": "efa70a07-12dd-49b9-e947-5db95c3d7e29"
      },
      "source": [
        "math.log(32, 2)"
      ],
      "execution_count": null,
      "outputs": [
        {
          "output_type": "execute_result",
          "data": {
            "text/plain": [
              "5.0"
            ]
          },
          "metadata": {
            "tags": []
          },
          "execution_count": 6
        }
      ]
    },
    {
      "cell_type": "markdown",
      "source": [
        "Se não for passado a base será utilizado o número de eulier (math.e):"
      ],
      "metadata": {
        "id": "2BOUeFasICCd"
      }
    },
    {
      "cell_type": "code",
      "metadata": {
        "id": "g1RLwvrN_H_V",
        "colab": {
          "base_uri": "https://localhost:8080/",
          "height": 34
        },
        "outputId": "4a707006-9f06-44d0-9942-746eb2880e12"
      },
      "source": [
        "math.log(1000)"
      ],
      "execution_count": null,
      "outputs": [
        {
          "output_type": "execute_result",
          "data": {
            "text/plain": [
              "6.907755278982137"
            ]
          },
          "metadata": {
            "tags": []
          },
          "execution_count": 7
        }
      ]
    },
    {
      "cell_type": "code",
      "metadata": {
        "id": "o6BDsZTH_NSD",
        "colab": {
          "base_uri": "https://localhost:8080/",
          "height": 34
        },
        "outputId": "60113956-fbff-4abb-d6f0-21387fb15500"
      },
      "source": [
        "math.e"
      ],
      "execution_count": null,
      "outputs": [
        {
          "output_type": "execute_result",
          "data": {
            "text/plain": [
              "2.718281828459045"
            ]
          },
          "metadata": {
            "tags": []
          },
          "execution_count": 8
        }
      ]
    },
    {
      "cell_type": "code",
      "metadata": {
        "id": "XHp0onHY_SBt",
        "colab": {
          "base_uri": "https://localhost:8080/",
          "height": 34
        },
        "outputId": "80343bfa-4e7d-487e-fa82-5ed22cf89a60"
      },
      "source": [
        "math.pi"
      ],
      "execution_count": null,
      "outputs": [
        {
          "output_type": "execute_result",
          "data": {
            "text/plain": [
              "3.141592653589793"
            ]
          },
          "metadata": {
            "tags": []
          },
          "execution_count": 9
        }
      ]
    },
    {
      "cell_type": "markdown",
      "metadata": {
        "id": "roxeqfCm86Xv"
      },
      "source": [
        "## Biblioteca datetime\n",
        "\n",
        "https://docs.python.org/3/library/datetime.html"
      ]
    },
    {
      "cell_type": "code",
      "metadata": {
        "id": "xHrk2_CW_bdq"
      },
      "source": [
        "import datetime"
      ],
      "execution_count": 2,
      "outputs": []
    },
    {
      "cell_type": "markdown",
      "source": [
        "Recursos existentes na biblioteca:"
      ],
      "metadata": {
        "id": "0CpPGjB7IQVr"
      }
    },
    {
      "cell_type": "code",
      "metadata": {
        "id": "ObWdUa5w_gGd",
        "colab": {
          "base_uri": "https://localhost:8080/",
          "height": 319
        },
        "outputId": "2345d3da-ced1-47ee-c242-306b2c23bd45"
      },
      "source": [
        "dir(datetime)"
      ],
      "execution_count": null,
      "outputs": [
        {
          "output_type": "execute_result",
          "data": {
            "text/plain": [
              "['MAXYEAR',\n",
              " 'MINYEAR',\n",
              " '__builtins__',\n",
              " '__cached__',\n",
              " '__doc__',\n",
              " '__file__',\n",
              " '__loader__',\n",
              " '__name__',\n",
              " '__package__',\n",
              " '__spec__',\n",
              " 'date',\n",
              " 'datetime',\n",
              " 'datetime_CAPI',\n",
              " 'sys',\n",
              " 'time',\n",
              " 'timedelta',\n",
              " 'timezone',\n",
              " 'tzinfo']"
            ]
          },
          "metadata": {
            "tags": []
          },
          "execution_count": 11
        }
      ]
    },
    {
      "cell_type": "code",
      "metadata": {
        "id": "xONOUbn0_pHp",
        "colab": {
          "base_uri": "https://localhost:8080/"
        },
        "outputId": "9a8f8609-3771-4ef3-d34b-37edf44af33e"
      },
      "source": [
        "datetime.date.today()"
      ],
      "execution_count": null,
      "outputs": [
        {
          "output_type": "execute_result",
          "data": {
            "text/plain": [
              "datetime.date(2023, 6, 17)"
            ]
          },
          "metadata": {},
          "execution_count": 4
        }
      ]
    },
    {
      "cell_type": "code",
      "metadata": {
        "id": "tt0hGFwv_uUK",
        "colab": {
          "base_uri": "https://localhost:8080/"
        },
        "outputId": "3e5ada3b-252f-498d-b6c8-caeac23133ed"
      },
      "source": [
        "datetime.datetime.now()"
      ],
      "execution_count": null,
      "outputs": [
        {
          "output_type": "execute_result",
          "data": {
            "text/plain": [
              "datetime.datetime(2023, 6, 17, 20, 54, 6, 83174)"
            ]
          },
          "metadata": {},
          "execution_count": 3
        }
      ]
    },
    {
      "cell_type": "code",
      "metadata": {
        "id": "ur0nPWai_944"
      },
      "source": [
        "data = datetime.date(2023, 6, 17)"
      ],
      "execution_count": 4,
      "outputs": []
    },
    {
      "cell_type": "code",
      "metadata": {
        "id": "6SHOHygsADbR",
        "colab": {
          "base_uri": "https://localhost:8080/"
        },
        "outputId": "0fa32388-5058-4284-cb3b-36016e62e27c"
      },
      "source": [
        "data"
      ],
      "execution_count": 5,
      "outputs": [
        {
          "output_type": "execute_result",
          "data": {
            "text/plain": [
              "datetime.date(2023, 6, 17)"
            ]
          },
          "metadata": {},
          "execution_count": 5
        }
      ]
    },
    {
      "cell_type": "code",
      "metadata": {
        "id": "m8JL6oiiAFUE",
        "colab": {
          "base_uri": "https://localhost:8080/"
        },
        "outputId": "0d9e0116-dcbe-44e2-8c2a-aed9a2da6900"
      },
      "source": [
        "data.day"
      ],
      "execution_count": 6,
      "outputs": [
        {
          "output_type": "execute_result",
          "data": {
            "text/plain": [
              "17"
            ]
          },
          "metadata": {},
          "execution_count": 6
        }
      ]
    },
    {
      "cell_type": "code",
      "metadata": {
        "id": "_46rIp3zAH9a",
        "colab": {
          "base_uri": "https://localhost:8080/"
        },
        "outputId": "cab5c2ca-d4be-4fb4-b9cc-24531dbfbf1b"
      },
      "source": [
        "data.month"
      ],
      "execution_count": 7,
      "outputs": [
        {
          "output_type": "execute_result",
          "data": {
            "text/plain": [
              "6"
            ]
          },
          "metadata": {},
          "execution_count": 7
        }
      ]
    },
    {
      "cell_type": "code",
      "metadata": {
        "id": "nTb7KdSnAKMW",
        "colab": {
          "base_uri": "https://localhost:8080/"
        },
        "outputId": "19b77752-51c5-4fa7-8d74-025b5d1263e9"
      },
      "source": [
        "data.year"
      ],
      "execution_count": 8,
      "outputs": [
        {
          "output_type": "execute_result",
          "data": {
            "text/plain": [
              "2023"
            ]
          },
          "metadata": {},
          "execution_count": 8
        }
      ]
    },
    {
      "cell_type": "code",
      "metadata": {
        "id": "FFeRYgo7AME5"
      },
      "source": [
        "horario = datetime.datetime(2023, 6, 17, 17, 30, 0)"
      ],
      "execution_count": 9,
      "outputs": []
    },
    {
      "cell_type": "code",
      "metadata": {
        "id": "lKlm_pM3AUgQ",
        "colab": {
          "base_uri": "https://localhost:8080/"
        },
        "outputId": "70a95797-15c9-44e6-9a7a-b381e8b3c3a3"
      },
      "source": [
        "horario"
      ],
      "execution_count": 10,
      "outputs": [
        {
          "output_type": "execute_result",
          "data": {
            "text/plain": [
              "datetime.datetime(2023, 6, 17, 17, 30)"
            ]
          },
          "metadata": {},
          "execution_count": 10
        }
      ]
    },
    {
      "cell_type": "code",
      "metadata": {
        "id": "n3Ga37sLAW42",
        "colab": {
          "base_uri": "https://localhost:8080/"
        },
        "outputId": "abc8387e-362a-464c-823a-5a8290697091"
      },
      "source": [
        "horario.hour"
      ],
      "execution_count": 11,
      "outputs": [
        {
          "output_type": "execute_result",
          "data": {
            "text/plain": [
              "17"
            ]
          },
          "metadata": {},
          "execution_count": 11
        }
      ]
    },
    {
      "cell_type": "code",
      "metadata": {
        "id": "fkAscL4JAZwv",
        "colab": {
          "base_uri": "https://localhost:8080/"
        },
        "outputId": "cf4be628-4e4a-47ac-9cd5-ae987408b589"
      },
      "source": [
        "horario.minute"
      ],
      "execution_count": 12,
      "outputs": [
        {
          "output_type": "execute_result",
          "data": {
            "text/plain": [
              "30"
            ]
          },
          "metadata": {},
          "execution_count": 12
        }
      ]
    },
    {
      "cell_type": "code",
      "metadata": {
        "id": "L17bP5fJAcLN",
        "colab": {
          "base_uri": "https://localhost:8080/"
        },
        "outputId": "d175f2b1-4d93-4ba3-f055-a4f75a35f810"
      },
      "source": [
        "horario.second"
      ],
      "execution_count": 13,
      "outputs": [
        {
          "output_type": "execute_result",
          "data": {
            "text/plain": [
              "0"
            ]
          },
          "metadata": {},
          "execution_count": 13
        }
      ]
    },
    {
      "cell_type": "markdown",
      "metadata": {
        "id": "ggltYst89xbS"
      },
      "source": [
        "## Biblioteca random\n",
        "\n",
        "https://docs.python.org/3/library/random.html"
      ]
    },
    {
      "cell_type": "code",
      "metadata": {
        "id": "CVJYJFKSA80v"
      },
      "source": [
        "import random"
      ],
      "execution_count": 15,
      "outputs": []
    },
    {
      "cell_type": "markdown",
      "source": [
        "Números randomicos entre 0 e 1:"
      ],
      "metadata": {
        "id": "VvB_dPiGJc4y"
      }
    },
    {
      "cell_type": "code",
      "metadata": {
        "id": "pHCyuns9A_1L",
        "colab": {
          "base_uri": "https://localhost:8080/",
          "height": 34
        },
        "outputId": "d24c127c-fcc0-40ca-f61c-e11677484ba3"
      },
      "source": [
        "random.random()"
      ],
      "execution_count": null,
      "outputs": [
        {
          "output_type": "execute_result",
          "data": {
            "text/plain": [
              "0.814337254626789"
            ]
          },
          "metadata": {
            "tags": []
          },
          "execution_count": 30
        }
      ]
    },
    {
      "cell_type": "markdown",
      "source": [
        "Número randomico entre dois valores inteiros passados por parâmetro:"
      ],
      "metadata": {
        "id": "_SgAcHK_JrWp"
      }
    },
    {
      "cell_type": "code",
      "metadata": {
        "id": "QP8UOZkSBIMM",
        "colab": {
          "base_uri": "https://localhost:8080/"
        },
        "outputId": "10e280b3-49a9-4b50-857f-dd4fb1adadd6"
      },
      "source": [
        "random.randint(1,10)"
      ],
      "execution_count": 19,
      "outputs": [
        {
          "output_type": "execute_result",
          "data": {
            "text/plain": [
              "2"
            ]
          },
          "metadata": {},
          "execution_count": 19
        }
      ]
    },
    {
      "cell_type": "markdown",
      "source": [
        "Número randomico entre dois valores mais com um valor de step:"
      ],
      "metadata": {
        "id": "88dddoePJ7R9"
      }
    },
    {
      "cell_type": "code",
      "metadata": {
        "id": "ANyO08vxBUOR",
        "colab": {
          "base_uri": "https://localhost:8080/",
          "height": 34
        },
        "outputId": "65c3de95-95b4-4584-d23b-ef4030d3cf2b"
      },
      "source": [
        "random.randrange(0, 10, 2)"
      ],
      "execution_count": null,
      "outputs": [
        {
          "output_type": "execute_result",
          "data": {
            "text/plain": [
              "4"
            ]
          },
          "metadata": {
            "tags": []
          },
          "execution_count": 43
        }
      ]
    },
    {
      "cell_type": "code",
      "metadata": {
        "id": "z_lV_cmrBime",
        "colab": {
          "base_uri": "https://localhost:8080/",
          "height": 34
        },
        "outputId": "2795c0f0-65ce-4786-9279-4d35cf252d56"
      },
      "source": [
        "random.randrange(0, 10, 3)"
      ],
      "execution_count": null,
      "outputs": [
        {
          "output_type": "execute_result",
          "data": {
            "text/plain": [
              "9"
            ]
          },
          "metadata": {
            "tags": []
          },
          "execution_count": 49
        }
      ]
    },
    {
      "cell_type": "markdown",
      "source": [
        "Sorteando um elemento dentro de uma lista:"
      ],
      "metadata": {
        "id": "ZwEDPjIaKidk"
      }
    },
    {
      "cell_type": "code",
      "metadata": {
        "id": "5lJoox02BsI-",
        "colab": {
          "base_uri": "https://localhost:8080/",
          "height": 34
        },
        "outputId": "e7a11890-1603-4724-e8c4-e3472f2afb7f"
      },
      "source": [
        "x = ['K', 'd', 13, '34-j', 'x']\n",
        "x"
      ],
      "execution_count": null,
      "outputs": [
        {
          "output_type": "execute_result",
          "data": {
            "text/plain": [
              "['K', 'd', 13, '34-j', 'x']"
            ]
          },
          "metadata": {
            "tags": []
          },
          "execution_count": 50
        }
      ]
    },
    {
      "cell_type": "code",
      "metadata": {
        "id": "69AXcQ4XB1x9",
        "colab": {
          "base_uri": "https://localhost:8080/",
          "height": 35
        },
        "outputId": "94ecf8e0-b70d-45dc-daf4-66fdc9e0ec17"
      },
      "source": [
        "random.choice(x)"
      ],
      "execution_count": null,
      "outputs": [
        {
          "output_type": "execute_result",
          "data": {
            "application/vnd.google.colaboratory.intrinsic": {
              "type": "string"
            },
            "text/plain": [
              "'34-j'"
            ]
          },
          "metadata": {
            "tags": []
          },
          "execution_count": 55
        }
      ]
    },
    {
      "cell_type": "markdown",
      "metadata": {
        "id": "mdD3O8Kc-Tkq"
      },
      "source": [
        "## Biblioteca time\n",
        "\n",
        "https://docs.python.org/3/library/time.html"
      ]
    },
    {
      "cell_type": "code",
      "metadata": {
        "id": "LPQ-b41pCBm_"
      },
      "source": [
        "import time as tm"
      ],
      "execution_count": 20,
      "outputs": []
    },
    {
      "cell_type": "code",
      "metadata": {
        "id": "8lUWM3b2CIEW",
        "colab": {
          "base_uri": "https://localhost:8080/"
        },
        "outputId": "c59aa698-38e4-4336-fa3d-af1170a496f4"
      },
      "source": [
        "tm.time()"
      ],
      "execution_count": 23,
      "outputs": [
        {
          "output_type": "execute_result",
          "data": {
            "text/plain": [
              "1687035799.9451766"
            ]
          },
          "metadata": {},
          "execution_count": 23
        }
      ]
    },
    {
      "cell_type": "markdown",
      "source": [
        "Verificando tempo de execução de um trecho de código:"
      ],
      "metadata": {
        "id": "cxrtVLg9K87h"
      }
    },
    {
      "cell_type": "code",
      "metadata": {
        "id": "gJRtYvDdCP7H"
      },
      "source": [
        "antes = tm.time()\n",
        "lista = []\n",
        "for i in range(0,10000):\n",
        "  lista.append(i)\n",
        "depois = tm.time()"
      ],
      "execution_count": 35,
      "outputs": []
    },
    {
      "cell_type": "code",
      "metadata": {
        "id": "Dx1j-BEcChm3",
        "colab": {
          "base_uri": "https://localhost:8080/"
        },
        "outputId": "e71dc9dc-824d-4d86-85d8-02066f831720"
      },
      "source": [
        "intervalo = depois - antes\n",
        "print(f'Tempo: {intervalo} segundos')"
      ],
      "execution_count": 36,
      "outputs": [
        {
          "output_type": "stream",
          "name": "stdout",
          "text": [
            "Tempo: 0.002257108688354492 segundos\n"
          ]
        }
      ]
    },
    {
      "cell_type": "code",
      "metadata": {
        "id": "1i2UXiRxCv4f",
        "colab": {
          "base_uri": "https://localhost:8080/",
          "height": 67
        },
        "outputId": "3ddf8b7f-b64d-4ea2-c93d-a1ba1d5eabbd"
      },
      "source": [
        "print('Finalizando...')\n",
        "tm.sleep(2)\n",
        "print('...')\n",
        "tm.sleep(2)\n",
        "print('Até a próxima')"
      ],
      "execution_count": null,
      "outputs": [
        {
          "output_type": "stream",
          "text": [
            "Finalizando...\n",
            "...\n",
            "Até a próxima\n"
          ],
          "name": "stdout"
        }
      ]
    }
  ]
}