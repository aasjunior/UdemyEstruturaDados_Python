{
  "nbformat": 4,
  "nbformat_minor": 0,
  "metadata": {
    "colab": {
      "provenance": [],
      "authorship_tag": "ABX9TyP20cdlQIbjufIE4IBiRS8T",
      "include_colab_link": true
    },
    "kernelspec": {
      "name": "python3",
      "display_name": "Python 3"
    },
    "language_info": {
      "name": "python"
    }
  },
  "cells": [
    {
      "cell_type": "markdown",
      "metadata": {
        "id": "view-in-github",
        "colab_type": "text"
      },
      "source": [
        "<a href=\"https://colab.research.google.com/github/aasjunior/UdemyEstruturaDados_Python/blob/main/04_pilhas_filas_deques/Filas.ipynb\" target=\"_parent\"><img src=\"https://colab.research.google.com/assets/colab-badge.svg\" alt=\"Open In Colab\"/></a>"
      ]
    },
    {
      "cell_type": "markdown",
      "source": [
        "## Filas"
      ],
      "metadata": {
        "id": "-JfwpBEfDlMx"
      }
    },
    {
      "cell_type": "markdown",
      "source": [
        "\n",
        "\n",
        "*   FIFO (First In First Out): Primeiro a entrar, primeiro a sair\n",
        "*   Aplicações\n",
        "    * Modelar aviões aguardando decolar\n",
        "    * Pacotes de dados esperando serem transmitidos pela rede\n",
        "    * Fila da impressora\n",
        "    \n",
        "\n"
      ],
      "metadata": {
        "id": "X47TphOcDp0h"
      }
    },
    {
      "cell_type": "markdown",
      "source": [
        "### Operações\n",
        "\n",
        "\n",
        "*   Enfileirar\n",
        "    * Colocar um item no final da fila\n",
        "\n",
        "*   Desenfileirar\n",
        "    * Remover um item do início da fila\n",
        "\n",
        "*   Vizualizar o início da fila\n",
        "    * Mostra o elemento que está no início da fila\n",
        "\n"
      ],
      "metadata": {
        "id": "QhnVLfatE8QP"
      }
    },
    {
      "cell_type": "markdown",
      "source": [
        "### Fila Circular\n",
        "*   Uma fila circular é uma variação da estrutura de dados de fila que trata o buffer de armazenamento como se fosse circular, em vez de linear.\n",
        "\n",
        "*   Permite um melhor aproveitamento do espaço de armazenamento, pois o espaço vazio pode ser reutilizado imediatamente.\n",
        "\n",
        "* Pode ser implementada usando um array com dois ponteiros, um para o início da fila e outro para o final da fila.\n",
        "\n",
        "* Quando um elemento é adicionado à fila, o ponteiro do final é incrementado e o elemento é armazenado na posição correspondente do array.\n",
        "\n",
        "* Quando um elemento é removido da fila, o ponteiro do início é incrementado e o elemento é removido da posição correspondente do array.\n",
        "\n",
        "* Se um dos ponteiros atingir o final do array, ele é ajustado para apontar para o início do array novamente.\n",
        "\n",
        "* Big-O: O(1) Constante"
      ],
      "metadata": {
        "id": "7suEAAvcFkqe"
      }
    },
    {
      "cell_type": "markdown",
      "source": [
        "### Implementação"
      ],
      "metadata": {
        "id": "w_u2igxhJcVS"
      }
    },
    {
      "cell_type": "code",
      "source": [
        "import numpy as np"
      ],
      "metadata": {
        "id": "O-raqkuUJgoF"
      },
      "execution_count": null,
      "outputs": []
    },
    {
      "cell_type": "code",
      "execution_count": null,
      "metadata": {
        "id": "6I1Jhn5RDkbm"
      },
      "outputs": [],
      "source": [
        "class FilaCircular:\n",
        "  def __init__(self, capacidade):\n",
        "    self.capacidade = capacidade\n",
        "    self.inicio = 0\n",
        "    self.final = -1\n",
        "    self.numero_elementos = 0\n",
        "    self.valores = np.empty(self.capacidade, dtype=int)\n",
        "\n",
        "  def __fila_vazia(self):\n",
        "    return self.numero_elementos == 0\n",
        "\n",
        "  def __fila_cheia(self):\n",
        "    return self.numero_elementos == self.capacidade\n",
        "\n",
        "  def enfileirar(self, valor):\n",
        "    if self.__fila_cheia():\n",
        "      print('A fila está cheia')\n",
        "      return\n",
        "\n",
        "    if self.final == self.capacidade -1:\n",
        "      self.final = -1\n",
        "\n",
        "    self.final += 1\n",
        "    self.valores[self.final] = valor\n",
        "    self.numero_elementos +=1\n",
        "\n",
        "  def desenfileirar(self):\n",
        "    if self.__fila_vazia():\n",
        "      print('A fila já está vazia')\n",
        "      return\n",
        "\n",
        "    temp = self.valores[self.inicio]\n",
        "    self.inicio += 1\n",
        "\n",
        "    if self.inicio == self.capacidade - 1:\n",
        "      self.inicio = 0\n",
        "\n",
        "    self.numero_elementos -= 1\n",
        "    return temp\n",
        "\n",
        "  def primeiro(self):\n",
        "    if self.__fila_vazia():\n",
        "      return -1\n",
        "    return self.valores[self.inicio]"
      ]
    },
    {
      "cell_type": "code",
      "source": [
        "fila = FilaCircular(5)"
      ],
      "metadata": {
        "id": "oRuHCTs_Ltha"
      },
      "execution_count": null,
      "outputs": []
    },
    {
      "cell_type": "code",
      "source": [
        "fila.primeiro()"
      ],
      "metadata": {
        "colab": {
          "base_uri": "https://localhost:8080/"
        },
        "id": "eUrauP8-Lw9W",
        "outputId": "2fa9a9e9-82f2-40ce-c4b0-4544d3908f2e"
      },
      "execution_count": null,
      "outputs": [
        {
          "output_type": "execute_result",
          "data": {
            "text/plain": [
              "-1"
            ]
          },
          "metadata": {},
          "execution_count": 4
        }
      ]
    },
    {
      "cell_type": "code",
      "source": [
        "# 1\n",
        "fila.enfileirar(1)\n",
        "fila.primeiro()"
      ],
      "metadata": {
        "colab": {
          "base_uri": "https://localhost:8080/"
        },
        "id": "InjIDdZaLzkf",
        "outputId": "a9184410-94f2-4b17-a5ce-338a4746145e"
      },
      "execution_count": null,
      "outputs": [
        {
          "output_type": "execute_result",
          "data": {
            "text/plain": [
              "1"
            ]
          },
          "metadata": {},
          "execution_count": 5
        }
      ]
    },
    {
      "cell_type": "code",
      "source": [
        "fila.enfileirar(3)\n",
        "fila.enfileirar(4)\n",
        "fila.enfileirar(5)"
      ],
      "metadata": {
        "id": "hX-H_MhKL9S3"
      },
      "execution_count": null,
      "outputs": []
    },
    {
      "cell_type": "code",
      "source": [
        "fila.enfileirar(6)"
      ],
      "metadata": {
        "id": "osgloeb7MHKH"
      },
      "execution_count": null,
      "outputs": []
    },
    {
      "cell_type": "code",
      "source": [
        "fila.enfileirar(2)"
      ],
      "metadata": {
        "colab": {
          "base_uri": "https://localhost:8080/"
        },
        "id": "IvaBoatiMJYW",
        "outputId": "f0b9a4e8-64af-4a48-a57f-13b670c6506d"
      },
      "execution_count": null,
      "outputs": [
        {
          "output_type": "stream",
          "name": "stdout",
          "text": [
            "A fila está cheia\n"
          ]
        }
      ]
    },
    {
      "cell_type": "code",
      "source": [
        "fila.desenfileirar()\n",
        "fila.desenfileirar()"
      ],
      "metadata": {
        "colab": {
          "base_uri": "https://localhost:8080/"
        },
        "id": "fCc94wf8MLko",
        "outputId": "0f1c3fd8-0e6e-4871-b288-8e9d88e7289b"
      },
      "execution_count": null,
      "outputs": [
        {
          "output_type": "execute_result",
          "data": {
            "text/plain": [
              "3"
            ]
          },
          "metadata": {},
          "execution_count": 9
        }
      ]
    },
    {
      "cell_type": "code",
      "source": [
        "fila.primeiro()"
      ],
      "metadata": {
        "colab": {
          "base_uri": "https://localhost:8080/"
        },
        "id": "9dFCNFFJMXE6",
        "outputId": "4d4e7d05-a27c-4c7d-efc7-06898718534c"
      },
      "execution_count": null,
      "outputs": [
        {
          "output_type": "execute_result",
          "data": {
            "text/plain": [
              "4"
            ]
          },
          "metadata": {},
          "execution_count": 10
        }
      ]
    },
    {
      "cell_type": "code",
      "source": [
        "fila.valores"
      ],
      "metadata": {
        "colab": {
          "base_uri": "https://localhost:8080/"
        },
        "id": "iou2E37HMpDg",
        "outputId": "60d9dda9-2245-4352-c3f0-5e9fcad64f0f"
      },
      "execution_count": null,
      "outputs": [
        {
          "output_type": "execute_result",
          "data": {
            "text/plain": [
              "array([1, 3, 4, 5, 6])"
            ]
          },
          "metadata": {},
          "execution_count": 11
        }
      ]
    },
    {
      "cell_type": "code",
      "source": [
        "# retorna indices correspondentes aos valores do inicio e do final da fila\n",
        "fila.inicio, fila.final"
      ],
      "metadata": {
        "colab": {
          "base_uri": "https://localhost:8080/"
        },
        "id": "6779x75CMyEu",
        "outputId": "00d90871-2c6c-4b16-d0fb-ea4e37579902"
      },
      "execution_count": null,
      "outputs": [
        {
          "output_type": "execute_result",
          "data": {
            "text/plain": [
              "(2, 4)"
            ]
          },
          "metadata": {},
          "execution_count": 12
        }
      ]
    },
    {
      "cell_type": "code",
      "source": [
        "fila.valores[fila.final]"
      ],
      "metadata": {
        "colab": {
          "base_uri": "https://localhost:8080/"
        },
        "id": "ThZOU6BuNFTe",
        "outputId": "190fa8ae-6148-415e-975b-b99d8c96629d"
      },
      "execution_count": null,
      "outputs": [
        {
          "output_type": "execute_result",
          "data": {
            "text/plain": [
              "6"
            ]
          },
          "metadata": {},
          "execution_count": 13
        }
      ]
    },
    {
      "cell_type": "code",
      "source": [
        "fila.valores[fila.inicio]"
      ],
      "metadata": {
        "colab": {
          "base_uri": "https://localhost:8080/"
        },
        "id": "oTXhPuGDNSdo",
        "outputId": "d85e7d29-017e-46bb-ee9f-cf323b02af10"
      },
      "execution_count": null,
      "outputs": [
        {
          "output_type": "execute_result",
          "data": {
            "text/plain": [
              "4"
            ]
          },
          "metadata": {},
          "execution_count": 14
        }
      ]
    },
    {
      "cell_type": "markdown",
      "source": [
        "### Fila de Prioridade"
      ],
      "metadata": {
        "id": "YM_Od_FjSR57"
      }
    },
    {
      "cell_type": "markdown",
      "source": [
        "\n",
        "\n",
        "*   Os itens são ordenados por valor-chave, de modo que o item com a chave mais baixa ou alta esteja sempre na frente\n",
        "\n",
        "*   Elementos de alta prioridade são colocados no início da fila, de média rpioridade no meio da fila, e de baixa no final da fila\n",
        "\n",
        "\n"
      ],
      "metadata": {
        "id": "01MLXA8vSVVw"
      }
    },
    {
      "cell_type": "markdown",
      "source": [
        "#### Implementação"
      ],
      "metadata": {
        "id": "YyLSG6w-8Rdh"
      }
    },
    {
      "cell_type": "code",
      "source": [
        "import numpy as np"
      ],
      "metadata": {
        "id": "Rkz2pApt8PGL"
      },
      "execution_count": 1,
      "outputs": []
    },
    {
      "cell_type": "code",
      "execution_count": 35,
      "metadata": {
        "id": "pzrJFiDp8aVp"
      },
      "outputs": [],
      "source": [
        "class FilaPrioridade:\n",
        "  def __init__(self, capacidade):\n",
        "    self.capacidade = capacidade\n",
        "    self.numero_elementos = 0\n",
        "    self.valores = np.empty(self.capacidade, dtype=int)\n",
        "\n",
        "  def __fila_vazia(self):\n",
        "    return self.numero_elementos == 0\n",
        "\n",
        "  def __fila_cheia(self):\n",
        "    return self.numero_elementos == self.capacidade\n",
        "\n",
        "  def enfileirar(self, valor):\n",
        "    if self.__fila_cheia():\n",
        "      print('A fila está cheia')\n",
        "      return\n",
        "\n",
        "    if self.numero_elementos == 0:\n",
        "      self.valores[self.numero_elementos] = valor\n",
        "      self.numero_elementos += 1\n",
        "    else:\n",
        "      x = self.numero_elementos - 1\n",
        "      while x >= 0:\n",
        "        if valor > self.valores[x]:\n",
        "          self.valores[x + 1] = self.valores[x]\n",
        "        else:\n",
        "          break\n",
        "        x -= 1\n",
        "\n",
        "      self.valores[x + 1] = valor\n",
        "      self.numero_elementos += 1\n",
        "\n",
        "  def desenfileirar(self):\n",
        "    if self.__fila_vazia():\n",
        "      print('A fila está vazia')\n",
        "      return\n",
        "\n",
        "    valor = self.valores[self.numero_elementos - 1]\n",
        "    self.numero_elementos -= 1\n",
        "    return valor\n",
        "\n",
        "\n",
        "  def primeiro(self):\n",
        "    if self.__fila_vazia():\n",
        "      return -1\n",
        "    return self.valores[self.numero_elementos - 1]"
      ]
    },
    {
      "cell_type": "code",
      "source": [
        "fila = FilaPrioridade(5)"
      ],
      "metadata": {
        "id": "dHkQ6d8Y-Oup"
      },
      "execution_count": 48,
      "outputs": []
    },
    {
      "cell_type": "code",
      "source": [
        "fila.primeiro()"
      ],
      "metadata": {
        "colab": {
          "base_uri": "https://localhost:8080/"
        },
        "id": "S3c4nzKa-SOB",
        "outputId": "c67096a8-8c23-4731-e1bb-deeb7c5a1782"
      },
      "execution_count": 49,
      "outputs": [
        {
          "output_type": "execute_result",
          "data": {
            "text/plain": [
              "-1"
            ]
          },
          "metadata": {},
          "execution_count": 49
        }
      ]
    },
    {
      "cell_type": "code",
      "source": [
        "# 30\n",
        "fila.enfileirar(30)\n",
        "fila.primeiro()"
      ],
      "metadata": {
        "colab": {
          "base_uri": "https://localhost:8080/"
        },
        "id": "LhcXO0i3-U92",
        "outputId": "34a635d3-3807-4714-83dd-dc8c01ec6954"
      },
      "execution_count": 50,
      "outputs": [
        {
          "output_type": "execute_result",
          "data": {
            "text/plain": [
              "30"
            ]
          },
          "metadata": {},
          "execution_count": 50
        }
      ]
    },
    {
      "cell_type": "code",
      "source": [
        "# 50 30\n",
        "fila.enfileirar(50)\n",
        "fila.primeiro()"
      ],
      "metadata": {
        "colab": {
          "base_uri": "https://localhost:8080/"
        },
        "id": "Z6Oh63aw_TO0",
        "outputId": "d4ba6ade-46d0-46e2-c412-14e7b48b0b0b"
      },
      "execution_count": 51,
      "outputs": [
        {
          "output_type": "execute_result",
          "data": {
            "text/plain": [
              "30"
            ]
          },
          "metadata": {},
          "execution_count": 51
        }
      ]
    },
    {
      "cell_type": "code",
      "source": [
        "# Tradicional: 10 50 30\n",
        "# Prioridade: 50 30 10\n",
        "fila.enfileirar(10)\n",
        "fila.primeiro()"
      ],
      "metadata": {
        "colab": {
          "base_uri": "https://localhost:8080/"
        },
        "id": "fstHqjAQ_WW0",
        "outputId": "ad047cad-4642-43a9-9551-c634d669517b"
      },
      "execution_count": 52,
      "outputs": [
        {
          "output_type": "execute_result",
          "data": {
            "text/plain": [
              "10"
            ]
          },
          "metadata": {},
          "execution_count": 52
        }
      ]
    },
    {
      "cell_type": "code",
      "source": [
        "fila.valores"
      ],
      "metadata": {
        "colab": {
          "base_uri": "https://localhost:8080/"
        },
        "id": "50C-_3lJAMtV",
        "outputId": "0bd14e4e-10a2-4b15-8b18-95241610bda5"
      },
      "execution_count": 53,
      "outputs": [
        {
          "output_type": "execute_result",
          "data": {
            "text/plain": [
              "array([50, 30, 10,  0, 48])"
            ]
          },
          "metadata": {},
          "execution_count": 53
        }
      ]
    },
    {
      "cell_type": "code",
      "source": [
        "# Tradicional: 40 10 50 30\n",
        "# Prioridade: 50 40 30 10\n",
        "fila.enfileirar(40)\n",
        "fila.primeiro()"
      ],
      "metadata": {
        "colab": {
          "base_uri": "https://localhost:8080/"
        },
        "id": "PArTVSVyAarr",
        "outputId": "cd431a2e-0f66-4fef-cea5-771d303b99ec"
      },
      "execution_count": 54,
      "outputs": [
        {
          "output_type": "execute_result",
          "data": {
            "text/plain": [
              "10"
            ]
          },
          "metadata": {},
          "execution_count": 54
        }
      ]
    },
    {
      "cell_type": "code",
      "source": [
        "fila.valores"
      ],
      "metadata": {
        "colab": {
          "base_uri": "https://localhost:8080/"
        },
        "id": "7xDD7TraAgqV",
        "outputId": "fa80851d-1306-4f09-a690-bc814c513ea3"
      },
      "execution_count": 55,
      "outputs": [
        {
          "output_type": "execute_result",
          "data": {
            "text/plain": [
              "array([50, 40, 30, 10, 48])"
            ]
          },
          "metadata": {},
          "execution_count": 55
        }
      ]
    },
    {
      "cell_type": "code",
      "source": [
        "# Tradicional: 20 40 10 50 30\n",
        "# Prioridade: 50 40 30 20 10\n",
        "fila.enfileirar(20)\n",
        "fila.primeiro()"
      ],
      "metadata": {
        "colab": {
          "base_uri": "https://localhost:8080/"
        },
        "id": "uxomuFH1Ar0z",
        "outputId": "233b121b-bd0f-440a-958f-0c6f1c3ea97c"
      },
      "execution_count": 56,
      "outputs": [
        {
          "output_type": "execute_result",
          "data": {
            "text/plain": [
              "10"
            ]
          },
          "metadata": {},
          "execution_count": 56
        }
      ]
    },
    {
      "cell_type": "code",
      "source": [
        "fila.valores"
      ],
      "metadata": {
        "colab": {
          "base_uri": "https://localhost:8080/"
        },
        "id": "1luRBdRBAwMd",
        "outputId": "944f9f71-6dea-4a8b-ae54-243825597fc4"
      },
      "execution_count": 57,
      "outputs": [
        {
          "output_type": "execute_result",
          "data": {
            "text/plain": [
              "array([50, 40, 30, 20, 10])"
            ]
          },
          "metadata": {},
          "execution_count": 57
        }
      ]
    },
    {
      "cell_type": "code",
      "source": [
        "fila.enfileirar(2)"
      ],
      "metadata": {
        "colab": {
          "base_uri": "https://localhost:8080/"
        },
        "id": "eqc3UcHXA76Q",
        "outputId": "8c9c5542-61b4-4240-bb1d-d400f0e8c2ce"
      },
      "execution_count": 58,
      "outputs": [
        {
          "output_type": "stream",
          "name": "stdout",
          "text": [
            "A fila está cheia\n"
          ]
        }
      ]
    },
    {
      "cell_type": "code",
      "source": [
        "fila.desenfileirar()\n",
        "fila.primeiro()"
      ],
      "metadata": {
        "colab": {
          "base_uri": "https://localhost:8080/"
        },
        "id": "dhSl7BDIBLwE",
        "outputId": "73f10b7d-b76d-403d-ee1f-9a669f035f08"
      },
      "execution_count": 59,
      "outputs": [
        {
          "output_type": "execute_result",
          "data": {
            "text/plain": [
              "20"
            ]
          },
          "metadata": {},
          "execution_count": 59
        }
      ]
    },
    {
      "cell_type": "code",
      "source": [
        "fila.desenfileirar()\n",
        "fila.primeiro()"
      ],
      "metadata": {
        "colab": {
          "base_uri": "https://localhost:8080/"
        },
        "id": "Au1WIlOLBqD3",
        "outputId": "420445b5-92b8-45db-f335-64f8919ce124"
      },
      "execution_count": 60,
      "outputs": [
        {
          "output_type": "execute_result",
          "data": {
            "text/plain": [
              "30"
            ]
          },
          "metadata": {},
          "execution_count": 60
        }
      ]
    },
    {
      "cell_type": "code",
      "source": [
        "fila.desenfileirar()\n",
        "fila.primeiro()"
      ],
      "metadata": {
        "colab": {
          "base_uri": "https://localhost:8080/"
        },
        "id": "nhuMsEmoBsc6",
        "outputId": "79c415ee-426e-4d91-ea17-07520ff910ec"
      },
      "execution_count": 61,
      "outputs": [
        {
          "output_type": "execute_result",
          "data": {
            "text/plain": [
              "40"
            ]
          },
          "metadata": {},
          "execution_count": 61
        }
      ]
    },
    {
      "cell_type": "code",
      "source": [
        "fila.valores"
      ],
      "metadata": {
        "colab": {
          "base_uri": "https://localhost:8080/"
        },
        "id": "xAWl0m5rBv3h",
        "outputId": "f2269cd2-efe1-4ad2-dfd9-2436acc99416"
      },
      "execution_count": 62,
      "outputs": [
        {
          "output_type": "execute_result",
          "data": {
            "text/plain": [
              "array([50, 40, 30, 20, 10])"
            ]
          },
          "metadata": {},
          "execution_count": 62
        }
      ]
    },
    {
      "cell_type": "code",
      "source": [
        "fila.enfileirar(5)\n",
        "fila.primeiro()"
      ],
      "metadata": {
        "colab": {
          "base_uri": "https://localhost:8080/"
        },
        "id": "kDlOs0OwBz4R",
        "outputId": "92476cd7-91c7-410f-ab2c-68b3a52ba9af"
      },
      "execution_count": 63,
      "outputs": [
        {
          "output_type": "execute_result",
          "data": {
            "text/plain": [
              "5"
            ]
          },
          "metadata": {},
          "execution_count": 63
        }
      ]
    },
    {
      "cell_type": "code",
      "source": [
        "fila.valores"
      ],
      "metadata": {
        "colab": {
          "base_uri": "https://localhost:8080/"
        },
        "id": "Ar9riFo3B53l",
        "outputId": "878a0081-8c91-4600-c75b-ccea2b5b7659"
      },
      "execution_count": 64,
      "outputs": [
        {
          "output_type": "execute_result",
          "data": {
            "text/plain": [
              "array([50, 40,  5, 20, 10])"
            ]
          },
          "metadata": {},
          "execution_count": 64
        }
      ]
    }
  ]
}