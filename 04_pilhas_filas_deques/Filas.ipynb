{
  "nbformat": 4,
  "nbformat_minor": 0,
  "metadata": {
    "colab": {
      "provenance": [],
      "authorship_tag": "ABX9TyPBuqbG58zuZ7DkRLFvK6cB",
      "include_colab_link": true
    },
    "kernelspec": {
      "name": "python3",
      "display_name": "Python 3"
    },
    "language_info": {
      "name": "python"
    }
  },
  "cells": [
    {
      "cell_type": "markdown",
      "metadata": {
        "id": "view-in-github",
        "colab_type": "text"
      },
      "source": [
        "<a href=\"https://colab.research.google.com/github/aasjunior/UdemyEstruturaDados_Python/blob/main/04_pilhas_filas_deques/Filas.ipynb\" target=\"_parent\"><img src=\"https://colab.research.google.com/assets/colab-badge.svg\" alt=\"Open In Colab\"/></a>"
      ]
    },
    {
      "cell_type": "markdown",
      "source": [
        "## Filas"
      ],
      "metadata": {
        "id": "-JfwpBEfDlMx"
      }
    },
    {
      "cell_type": "markdown",
      "source": [
        "\n",
        "\n",
        "*   FIFO (First In First Out): Primeiro a entrar, primeiro a sair\n",
        "*   Aplicações\n",
        "    * Modelar aviões aguardando decolar\n",
        "    * Pacotes de dados esperando serem transmitidos pela rede\n",
        "    * Fila da impressora\n",
        "    \n",
        "\n"
      ],
      "metadata": {
        "id": "X47TphOcDp0h"
      }
    },
    {
      "cell_type": "markdown",
      "source": [
        "### Operações\n",
        "\n",
        "\n",
        "*   Enfileirar\n",
        "    * Colocar um item no final da fila\n",
        "\n",
        "*   Desenfileirar\n",
        "    * Remover um item do início da fila\n",
        "\n",
        "*   Vizualizar o início da fila\n",
        "    * Mostra o elemento que está no início da fila\n",
        "\n"
      ],
      "metadata": {
        "id": "QhnVLfatE8QP"
      }
    },
    {
      "cell_type": "markdown",
      "source": [
        "### Fila Circular\n",
        "*   Uma fila circular é uma variação da estrutura de dados de fila que trata o buffer de armazenamento como se fosse circular, em vez de linear.\n",
        "\n",
        "*   Permite um melhor aproveitamento do espaço de armazenamento, pois o espaço vazio pode ser reutilizado imediatamente.\n",
        "\n",
        "* Pode ser implementada usando um array com dois ponteiros, um para o início da fila e outro para o final da fila.\n",
        "\n",
        "* Quando um elemento é adicionado à fila, o ponteiro do final é incrementado e o elemento é armazenado na posição correspondente do array.\n",
        "\n",
        "* Quando um elemento é removido da fila, o ponteiro do início é incrementado e o elemento é removido da posição correspondente do array.\n",
        "\n",
        "* Se um dos ponteiros atingir o final do array, ele é ajustado para apontar para o início do array novamente.\n",
        "\n",
        "* Big-O: O(1) Constante"
      ],
      "metadata": {
        "id": "7suEAAvcFkqe"
      }
    },
    {
      "cell_type": "markdown",
      "source": [
        "### Implementação"
      ],
      "metadata": {
        "id": "w_u2igxhJcVS"
      }
    },
    {
      "cell_type": "code",
      "source": [
        "import numpy as np"
      ],
      "metadata": {
        "id": "O-raqkuUJgoF"
      },
      "execution_count": 1,
      "outputs": []
    },
    {
      "cell_type": "code",
      "execution_count": 2,
      "metadata": {
        "id": "6I1Jhn5RDkbm"
      },
      "outputs": [],
      "source": [
        "class FilaCircular:\n",
        "  def __init__(self, capacidade):\n",
        "    self.capacidade = capacidade\n",
        "    self.inicio = 0\n",
        "    self.final = -1\n",
        "    self.numero_elementos = 0\n",
        "    self.valores = np.empty(self.capacidade, dtype=int)\n",
        "\n",
        "  def __fila_vazia(self):\n",
        "    return self.numero_elementos == 0\n",
        "\n",
        "  def __fila_cheia(self):\n",
        "    return self.numero_elementos == self.capacidade\n",
        "\n",
        "  def enfileirar(self, valor):\n",
        "    if self.__fila_cheia():\n",
        "      print('A fila está cheia')\n",
        "      return\n",
        "\n",
        "    if self.final == self.capacidade -1:\n",
        "      self.final = -1\n",
        "\n",
        "    self.final += 1\n",
        "    self.valores[self.final] = valor\n",
        "    self.numero_elementos +=1\n",
        "\n",
        "  def desenfileirar(self):\n",
        "    if self.__fila_vazia():\n",
        "      print('A fila já está vazia')\n",
        "      return\n",
        "\n",
        "    temp = self.valores[self.inicio]\n",
        "    self.inicio += 1\n",
        "\n",
        "    if self.inicio == self.capacidade - 1:\n",
        "      self.inicio = 0\n",
        "\n",
        "    self.numero_elementos -= 1\n",
        "    return temp\n",
        "\n",
        "  def primeiro(self):\n",
        "    if self.__fila_vazia():\n",
        "      return -1\n",
        "    return self.valores[self.inicio]"
      ]
    },
    {
      "cell_type": "code",
      "source": [
        "fila = FilaCircular(5)"
      ],
      "metadata": {
        "id": "oRuHCTs_Ltha"
      },
      "execution_count": 3,
      "outputs": []
    },
    {
      "cell_type": "code",
      "source": [
        "fila.primeiro()"
      ],
      "metadata": {
        "colab": {
          "base_uri": "https://localhost:8080/"
        },
        "id": "eUrauP8-Lw9W",
        "outputId": "2fa9a9e9-82f2-40ce-c4b0-4544d3908f2e"
      },
      "execution_count": 4,
      "outputs": [
        {
          "output_type": "execute_result",
          "data": {
            "text/plain": [
              "-1"
            ]
          },
          "metadata": {},
          "execution_count": 4
        }
      ]
    },
    {
      "cell_type": "code",
      "source": [
        "# 1\n",
        "fila.enfileirar(1)\n",
        "fila.primeiro()"
      ],
      "metadata": {
        "colab": {
          "base_uri": "https://localhost:8080/"
        },
        "id": "InjIDdZaLzkf",
        "outputId": "a9184410-94f2-4b17-a5ce-338a4746145e"
      },
      "execution_count": 5,
      "outputs": [
        {
          "output_type": "execute_result",
          "data": {
            "text/plain": [
              "1"
            ]
          },
          "metadata": {},
          "execution_count": 5
        }
      ]
    },
    {
      "cell_type": "code",
      "source": [
        "fila.enfileirar(3)\n",
        "fila.enfileirar(4)\n",
        "fila.enfileirar(5)"
      ],
      "metadata": {
        "id": "hX-H_MhKL9S3"
      },
      "execution_count": 6,
      "outputs": []
    },
    {
      "cell_type": "code",
      "source": [
        "fila.enfileirar(6)"
      ],
      "metadata": {
        "id": "osgloeb7MHKH"
      },
      "execution_count": 7,
      "outputs": []
    },
    {
      "cell_type": "code",
      "source": [
        "fila.enfileirar(2)"
      ],
      "metadata": {
        "colab": {
          "base_uri": "https://localhost:8080/"
        },
        "id": "IvaBoatiMJYW",
        "outputId": "f0b9a4e8-64af-4a48-a57f-13b670c6506d"
      },
      "execution_count": 8,
      "outputs": [
        {
          "output_type": "stream",
          "name": "stdout",
          "text": [
            "A fila está cheia\n"
          ]
        }
      ]
    },
    {
      "cell_type": "code",
      "source": [
        "fila.desenfileirar()\n",
        "fila.desenfileirar()"
      ],
      "metadata": {
        "colab": {
          "base_uri": "https://localhost:8080/"
        },
        "id": "fCc94wf8MLko",
        "outputId": "0f1c3fd8-0e6e-4871-b288-8e9d88e7289b"
      },
      "execution_count": 9,
      "outputs": [
        {
          "output_type": "execute_result",
          "data": {
            "text/plain": [
              "3"
            ]
          },
          "metadata": {},
          "execution_count": 9
        }
      ]
    },
    {
      "cell_type": "code",
      "source": [
        "fila.primeiro()"
      ],
      "metadata": {
        "colab": {
          "base_uri": "https://localhost:8080/"
        },
        "id": "9dFCNFFJMXE6",
        "outputId": "4d4e7d05-a27c-4c7d-efc7-06898718534c"
      },
      "execution_count": 10,
      "outputs": [
        {
          "output_type": "execute_result",
          "data": {
            "text/plain": [
              "4"
            ]
          },
          "metadata": {},
          "execution_count": 10
        }
      ]
    },
    {
      "cell_type": "code",
      "source": [
        "fila.valores"
      ],
      "metadata": {
        "colab": {
          "base_uri": "https://localhost:8080/"
        },
        "id": "iou2E37HMpDg",
        "outputId": "60d9dda9-2245-4352-c3f0-5e9fcad64f0f"
      },
      "execution_count": 11,
      "outputs": [
        {
          "output_type": "execute_result",
          "data": {
            "text/plain": [
              "array([1, 3, 4, 5, 6])"
            ]
          },
          "metadata": {},
          "execution_count": 11
        }
      ]
    },
    {
      "cell_type": "code",
      "source": [
        "# retorna indices correspondentes aos valores do inicio e do final da fila\n",
        "fila.inicio, fila.final"
      ],
      "metadata": {
        "colab": {
          "base_uri": "https://localhost:8080/"
        },
        "id": "6779x75CMyEu",
        "outputId": "00d90871-2c6c-4b16-d0fb-ea4e37579902"
      },
      "execution_count": 12,
      "outputs": [
        {
          "output_type": "execute_result",
          "data": {
            "text/plain": [
              "(2, 4)"
            ]
          },
          "metadata": {},
          "execution_count": 12
        }
      ]
    },
    {
      "cell_type": "code",
      "source": [
        "fila.valores[fila.final]"
      ],
      "metadata": {
        "colab": {
          "base_uri": "https://localhost:8080/"
        },
        "id": "ThZOU6BuNFTe",
        "outputId": "190fa8ae-6148-415e-975b-b99d8c96629d"
      },
      "execution_count": 13,
      "outputs": [
        {
          "output_type": "execute_result",
          "data": {
            "text/plain": [
              "6"
            ]
          },
          "metadata": {},
          "execution_count": 13
        }
      ]
    },
    {
      "cell_type": "code",
      "source": [
        "fila.valores[fila.inicio]"
      ],
      "metadata": {
        "colab": {
          "base_uri": "https://localhost:8080/"
        },
        "id": "oTXhPuGDNSdo",
        "outputId": "d85e7d29-017e-46bb-ee9f-cf323b02af10"
      },
      "execution_count": 14,
      "outputs": [
        {
          "output_type": "execute_result",
          "data": {
            "text/plain": [
              "4"
            ]
          },
          "metadata": {},
          "execution_count": 14
        }
      ]
    }
  ]
}