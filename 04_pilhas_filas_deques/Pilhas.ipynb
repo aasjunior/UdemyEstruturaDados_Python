{
  "nbformat": 4,
  "nbformat_minor": 0,
  "metadata": {
    "colab": {
      "provenance": [],
      "authorship_tag": "ABX9TyNZ8gRBn/Pr9+cItZCM152f",
      "include_colab_link": true
    },
    "kernelspec": {
      "name": "python3",
      "display_name": "Python 3"
    },
    "language_info": {
      "name": "python"
    }
  },
  "cells": [
    {
      "cell_type": "markdown",
      "metadata": {
        "id": "view-in-github",
        "colab_type": "text"
      },
      "source": [
        "<a href=\"https://colab.research.google.com/github/aasjunior/UdemyEstruturaDados_Python/blob/main/04_pilhas_filas_deques/Pilhas.ipynb\" target=\"_parent\"><img src=\"https://colab.research.google.com/assets/colab-badge.svg\" alt=\"Open In Colab\"/></a>"
      ]
    },
    {
      "cell_type": "markdown",
      "source": [
        "## Pilhas"
      ],
      "metadata": {
        "id": "nFq0ols8JNlL"
      }
    },
    {
      "cell_type": "markdown",
      "source": [
        "\n",
        "\n",
        "*   Empilhar um elemento sobre o outro\n",
        "*   Permite acesso a um item de dados: o último item inserido\n",
        "*   Se o último item for removido, o item anterior poderá ser acessado\n",
        "*   Aplicações\n",
        "    * Correções de expressões aritméticas, tais como 3 * (4 + 5)\n",
        "    * Percorrimento de uma árvore binária\n",
        "    * Pesquisa do vértice de um grafo\n",
        "    * Microprocessadores com arquitetura baseada em pilhas. Quando um método é chamado, seu endereço de retorno e seus parâmetros são empilhados em uma pilha e quando eleretorna, são desempilhados\n",
        "\n"
      ],
      "metadata": {
        "id": "d7SZ_PmoJQQ6"
      }
    },
    {
      "cell_type": "markdown",
      "source": [
        "### Operações\n",
        "\n",
        "\n",
        "\n",
        "*   Empilhar\n",
        "    * Colocar um item de dados no topo da pilha\n",
        "\n",
        "*   Desempilhar\n",
        "    * Remover um item do topo da pilha\n",
        "\n",
        "*   Visualizar o topo\n",
        "    * Mostra o elemento que está no topo da pilha\n",
        "*   LIFO (Last Int First Out): Último a entrar, primeiro a sair\n",
        "\n"
      ],
      "metadata": {
        "id": "JV32dL7xLZNi"
      }
    },
    {
      "cell_type": "markdown",
      "source": [
        "### Implementação"
      ],
      "metadata": {
        "id": "v1n5MRDwMhbP"
      }
    },
    {
      "cell_type": "code",
      "source": [
        "import numpy as np"
      ],
      "metadata": {
        "id": "c3519HhLMg6U"
      },
      "execution_count": 14,
      "outputs": []
    },
    {
      "cell_type": "code",
      "source": [
        "class Pilha:\n",
        "\n",
        "  ## __ indica metodo privado, acessado somente dentro da class\n",
        "  def __init__(self, capacidade):\n",
        "    self.__capacidade = capacidade\n",
        "    self.__topo = -1\n",
        "    self.__valores = np.empty(self.__capacidade, dtype=int)\n",
        "\n",
        "  def __pilha_cheia(self):\n",
        "    if self.__topo == self.__capacidade - 1:\n",
        "      return True\n",
        "    else:\n",
        "      return False\n",
        "\n",
        "  def __pilha_vazia(self):\n",
        "    if self.__topo == -1:\n",
        "      return True\n",
        "    else:\n",
        "      return False\n",
        "\n",
        "  def empilhar(self, valor):\n",
        "    if self.__pilha_cheia():\n",
        "      print('A pilha está cheia')\n",
        "    else:\n",
        "      self.__topo += 1\n",
        "      self.__valores[self.__topo] = valor\n",
        "\n",
        "  def desempilhar(self):\n",
        "    if self.__pilha_vazia():\n",
        "      print('A pilha está vazia')\n",
        "    else:\n",
        "      self.__topo -= 1\n",
        "\n",
        "  def ver_topo(self):\n",
        "    if self.__topo != -1:\n",
        "      return self.__valores[self.__topo]\n",
        "    else:\n",
        "      return -1"
      ],
      "metadata": {
        "id": "ugESGil1MmLh"
      },
      "execution_count": null,
      "outputs": []
    },
    {
      "cell_type": "code",
      "source": [
        "pilha = Pilha(5)"
      ],
      "metadata": {
        "id": "iEcVATr2Oum9"
      },
      "execution_count": null,
      "outputs": []
    },
    {
      "cell_type": "code",
      "source": [
        "pilha.ver_topo()"
      ],
      "metadata": {
        "colab": {
          "base_uri": "https://localhost:8080/"
        },
        "id": "FqOqqQkkPRa9",
        "outputId": "8998c3b8-55d6-49f6-85eb-efe88b231647"
      },
      "execution_count": null,
      "outputs": [
        {
          "output_type": "execute_result",
          "data": {
            "text/plain": [
              "-1"
            ]
          },
          "metadata": {},
          "execution_count": 6
        }
      ]
    },
    {
      "cell_type": "code",
      "source": [
        "pilha.empilhar(1)\n",
        "pilha.ver_topo()"
      ],
      "metadata": {
        "colab": {
          "base_uri": "https://localhost:8080/"
        },
        "id": "7EJLmW1vPV3E",
        "outputId": "3bdd2879-6619-468f-b426-d7e6c8404cf9"
      },
      "execution_count": null,
      "outputs": [
        {
          "output_type": "execute_result",
          "data": {
            "text/plain": [
              "1"
            ]
          },
          "metadata": {},
          "execution_count": 7
        }
      ]
    },
    {
      "cell_type": "code",
      "source": [
        "pilha.empilhar(1)\n",
        "pilha.empilhar(2)\n",
        "pilha.empilhar(3)\n",
        "pilha.empilhar(4)"
      ],
      "metadata": {
        "id": "ZjdumVRyPcxl"
      },
      "execution_count": null,
      "outputs": []
    },
    {
      "cell_type": "code",
      "source": [
        "pilha.empilhar(6)"
      ],
      "metadata": {
        "colab": {
          "base_uri": "https://localhost:8080/"
        },
        "id": "x51e6lQ9PgsL",
        "outputId": "acc0fc93-f3fe-4e12-fdc7-58e65c01400e"
      },
      "execution_count": null,
      "outputs": [
        {
          "output_type": "stream",
          "name": "stdout",
          "text": [
            "A pilha está cheia\n"
          ]
        }
      ]
    },
    {
      "cell_type": "code",
      "source": [
        "pilha.ver_topo()"
      ],
      "metadata": {
        "colab": {
          "base_uri": "https://localhost:8080/"
        },
        "id": "r6HEXTRfPiVM",
        "outputId": "8f4a001b-71ba-423b-8ba2-e63bbc8a8b69"
      },
      "execution_count": null,
      "outputs": [
        {
          "output_type": "execute_result",
          "data": {
            "text/plain": [
              "4"
            ]
          },
          "metadata": {},
          "execution_count": 10
        }
      ]
    },
    {
      "cell_type": "code",
      "source": [
        "pilha.desempilhar()"
      ],
      "metadata": {
        "id": "RqeSTxd4Plwk"
      },
      "execution_count": null,
      "outputs": []
    },
    {
      "cell_type": "code",
      "source": [
        "pilha.ver_topo()"
      ],
      "metadata": {
        "colab": {
          "base_uri": "https://localhost:8080/"
        },
        "id": "9MCi4gR-PqHr",
        "outputId": "649a50d4-071f-4e52-be0d-b115fd4fb8cd"
      },
      "execution_count": null,
      "outputs": [
        {
          "output_type": "execute_result",
          "data": {
            "text/plain": [
              "3"
            ]
          },
          "metadata": {},
          "execution_count": 12
        }
      ]
    },
    {
      "cell_type": "code",
      "source": [
        "pilha.desempilhar()\n",
        "pilha.desempilhar()\n",
        "pilha.desempilhar()"
      ],
      "metadata": {
        "id": "HoZ4k29xPuwj"
      },
      "execution_count": null,
      "outputs": []
    },
    {
      "cell_type": "code",
      "source": [
        "pilha.ver_topo()"
      ],
      "metadata": {
        "colab": {
          "base_uri": "https://localhost:8080/"
        },
        "id": "fj2xzb3lPxGS",
        "outputId": "33c0c258-01f9-41f5-d95c-e6a5162b616b"
      },
      "execution_count": null,
      "outputs": [
        {
          "output_type": "execute_result",
          "data": {
            "text/plain": [
              "-1"
            ]
          },
          "metadata": {},
          "execution_count": 16
        }
      ]
    },
    {
      "cell_type": "code",
      "source": [
        "pilha.desempilhar()"
      ],
      "metadata": {
        "colab": {
          "base_uri": "https://localhost:8080/"
        },
        "id": "xpX0pMgiP0Xl",
        "outputId": "669c65ab-65b3-4976-e9f6-14718584f0cd"
      },
      "execution_count": null,
      "outputs": [
        {
          "output_type": "stream",
          "name": "stdout",
          "text": [
            "A pilha está vazia\n"
          ]
        }
      ]
    },
    {
      "cell_type": "markdown",
      "source": [
        "### Validador de Expressões"
      ],
      "metadata": {
        "id": "qrVpOTdkQCLN"
      }
    },
    {
      "cell_type": "markdown",
      "source": [
        "\n",
        "\n",
        "*   Os delimitadores são as chaves { e }, os colschetes [ e ] e os parênteses ( e )\n",
        "*   Cada delimitador de abertura ou à esquerda deve ser casado com um delimitador de fechamento ou à direita\n",
        "\n"
      ],
      "metadata": {
        "id": "kWuTKHS0QG1S"
      }
    },
    {
      "cell_type": "markdown",
      "source": [
        "#### Minha Solução"
      ],
      "metadata": {
        "id": "S9-810BB5iPs"
      }
    },
    {
      "cell_type": "code",
      "source": [
        "class Pilha:\n",
        "\n",
        "  ## __ indica metodo privado, acessado somente dentro da class\n",
        "  def __init__(self, capacidade):\n",
        "    self.__capacidade = capacidade\n",
        "    self.__topo = -1\n",
        "\n",
        "    # Array de chars\n",
        "    self.__valores = np.chararray(self.__capacidade, unicode=True)\n",
        "\n",
        "  def __pilha_cheia(self):\n",
        "    if self.__topo == self.__capacidade - 1:\n",
        "      return True\n",
        "    else:\n",
        "      return False\n",
        "\n",
        "  def __pilha_vazia(self):\n",
        "    if self.__topo == -1:\n",
        "      return True\n",
        "    else:\n",
        "      return False\n",
        "\n",
        "  def empilhar(self, valor):\n",
        "    if self.__pilha_cheia():\n",
        "      print('A pilha está cheia')\n",
        "    else:\n",
        "      self.__topo += 1\n",
        "      self.__valores[self.__topo] = valor\n",
        "\n",
        "  def desempilhar(self):\n",
        "    if self.__pilha_vazia():\n",
        "      print('A pilha está vazia')\n",
        "    else:\n",
        "      self.__topo -= 1\n",
        "\n",
        "  def ver_topo(self):\n",
        "    if self.__topo != -1:\n",
        "      return self.__valores[self.__topo]\n",
        "    else:\n",
        "      return -1"
      ],
      "metadata": {
        "id": "PLzuMWS_yu6I"
      },
      "execution_count": 51,
      "outputs": []
    },
    {
      "cell_type": "code",
      "source": [
        "delimiters = {\n",
        "    '{': '}',\n",
        "    '[': ']',\n",
        "    '(': ')'\n",
        "}"
      ],
      "metadata": {
        "id": "vWfBv8ppU99n"
      },
      "execution_count": 16,
      "outputs": []
    },
    {
      "cell_type": "code",
      "source": [
        "delimiters.keys()"
      ],
      "metadata": {
        "colab": {
          "base_uri": "https://localhost:8080/"
        },
        "id": "LDp3f7lwVwb9",
        "outputId": "107e2ef7-1e44-4873-e47e-c068d5f7d9b5"
      },
      "execution_count": 17,
      "outputs": [
        {
          "output_type": "execute_result",
          "data": {
            "text/plain": [
              "dict_keys(['{', '[', '('])"
            ]
          },
          "metadata": {},
          "execution_count": 17
        }
      ]
    },
    {
      "cell_type": "code",
      "source": [
        "delimiters.values()"
      ],
      "metadata": {
        "colab": {
          "base_uri": "https://localhost:8080/"
        },
        "id": "k0SjnyUTV4aN",
        "outputId": "59072ebe-885c-4ab6-aeeb-f74077ac753a"
      },
      "execution_count": 18,
      "outputs": [
        {
          "output_type": "execute_result",
          "data": {
            "text/plain": [
              "dict_values(['}', ']', ')'])"
            ]
          },
          "metadata": {},
          "execution_count": 18
        }
      ]
    },
    {
      "cell_type": "code",
      "source": [
        "delimiters.get('{')"
      ],
      "metadata": {
        "colab": {
          "base_uri": "https://localhost:8080/",
          "height": 36
        },
        "id": "jF9LLyr4yQO8",
        "outputId": "73a4184a-c7f5-4b2b-a7e9-0854af87d0de"
      },
      "execution_count": 19,
      "outputs": [
        {
          "output_type": "execute_result",
          "data": {
            "text/plain": [
              "'}'"
            ],
            "application/vnd.google.colaboratory.intrinsic+json": {
              "type": "string"
            }
          },
          "metadata": {},
          "execution_count": 19
        }
      ]
    },
    {
      "cell_type": "code",
      "source": [
        "def valida_exp(exp):\n",
        "  pilha = Pilha(len(exp))\n",
        "  for c in exp:\n",
        "    if c in delimiters or c in delimiters.values():\n",
        "      if delimiters.get(c):\n",
        "        pilha.empilhar(c)\n",
        "        print(f'\\n{c}')\n",
        "        #print(f'\\n{pilha.ver_topo()}')\n",
        "      elif c == delimiters.get(pilha.ver_topo()):\n",
        "        pilha.desempilhar()\n",
        "        print(f'\\n{c}')\n",
        "        #print(f'\\n{pilha.ver_topo()}')\n",
        "      else:\n",
        "        print(f'\\nExpressão inválida: {c}')\n",
        "        break\n",
        ""
      ],
      "metadata": {
        "id": "GOaqrZdzzVpY"
      },
      "execution_count": 52,
      "outputs": []
    },
    {
      "cell_type": "code",
      "source": [
        "exp = list(input('Digite a expressão aritmética: '))"
      ],
      "metadata": {
        "colab": {
          "base_uri": "https://localhost:8080/"
        },
        "id": "4hvntPn3TUfQ",
        "outputId": "6017273b-8f70-476b-fd33-96e1de96d569"
      },
      "execution_count": 27,
      "outputs": [
        {
          "name": "stdout",
          "output_type": "stream",
          "text": [
            "Digite a expressão aritmética: a{b(c[d]e)}\n"
          ]
        }
      ]
    },
    {
      "cell_type": "code",
      "source": [
        "print(exp)"
      ],
      "metadata": {
        "colab": {
          "base_uri": "https://localhost:8080/"
        },
        "id": "0E75lmM5Ttch",
        "outputId": "c9402d3a-f068-4473-8bc4-54841afb0a2e"
      },
      "execution_count": 28,
      "outputs": [
        {
          "output_type": "stream",
          "name": "stdout",
          "text": [
            "['a', '{', 'b', '(', 'c', '[', 'd', ']', 'e', ')', '}']\n"
          ]
        }
      ]
    },
    {
      "cell_type": "code",
      "source": [
        "valida_exp(exp)"
      ],
      "metadata": {
        "id": "5mQfTS083NXk"
      },
      "execution_count": null,
      "outputs": []
    },
    {
      "cell_type": "code",
      "source": [
        "exp = list(input('Digite a expressão aritmética: '))"
      ],
      "metadata": {
        "colab": {
          "base_uri": "https://localhost:8080/"
        },
        "id": "B4-ligz34x1l",
        "outputId": "c94e1b4d-f2a6-412f-e15d-28a9fa057016"
      },
      "execution_count": 37,
      "outputs": [
        {
          "name": "stdout",
          "output_type": "stream",
          "text": [
            "Digite a expressão aritmética: a{b(c[d)]}\n"
          ]
        }
      ]
    },
    {
      "cell_type": "code",
      "source": [
        "valida_exp(exp)"
      ],
      "metadata": {
        "colab": {
          "base_uri": "https://localhost:8080/"
        },
        "id": "B-HT-7JC47OL",
        "outputId": "a37bea10-b3ce-401d-8158-1765f2fcb25d"
      },
      "execution_count": 53,
      "outputs": [
        {
          "output_type": "stream",
          "name": "stdout",
          "text": [
            "\n",
            "{\n",
            "\n",
            "(\n",
            "\n",
            "[\n",
            "\n",
            "Expressão inválida: )\n"
          ]
        }
      ]
    },
    {
      "cell_type": "markdown",
      "source": [
        "### Solução"
      ],
      "metadata": {
        "id": "uJKyXllq5wIc"
      }
    },
    {
      "cell_type": "code",
      "source": [],
      "metadata": {
        "id": "0MRuND5T5syd"
      },
      "execution_count": null,
      "outputs": []
    },
    {
      "cell_type": "code",
      "source": [
        "class Pilha:\n",
        "\n",
        "  ## __ indica metodo privado, acessado somente dentro da class\n",
        "  def __init__(self, capacidade):\n",
        "    self.__capacidade = capacidade\n",
        "    self.__topo = -1\n",
        "\n",
        "    # Array de chars\n",
        "    self.__valores = np.chararray(self.__capacidade, unicode=True)\n",
        "\n",
        "  def __pilha_cheia(self):\n",
        "    if self.__topo == self.__capacidade - 1:\n",
        "      return True\n",
        "    else:\n",
        "      return False\n",
        "\n",
        "  def pilha_vazia(self):\n",
        "    if self.__topo == -1:\n",
        "      return True\n",
        "    else:\n",
        "      return False\n",
        "\n",
        "  def empilhar(self, valor):\n",
        "    if self.__pilha_cheia():\n",
        "      print('A pilha está cheia')\n",
        "    else:\n",
        "      self.__topo += 1\n",
        "      self.__valores[self.__topo] = valor\n",
        "\n",
        "  def desempilhar(self):\n",
        "    if self.pilha_vazia():\n",
        "      print('A pilha está vazia')\n",
        "      return -1\n",
        "    else:\n",
        "      valor = self.__valores[self.__topo]\n",
        "      self.__topo -= 1\n",
        "      return valor\n",
        "\n",
        "  def ver_topo(self):\n",
        "    if self.__topo != -1:\n",
        "      return self.__valores[self.__topo]\n",
        "    else:\n",
        "      return -1"
      ],
      "metadata": {
        "id": "C2wb7d5c9soR"
      },
      "execution_count": 62,
      "outputs": []
    },
    {
      "cell_type": "code",
      "metadata": {
        "id": "FbPXZwAKpWPs"
      },
      "source": [
        "# c[d]\n",
        "# a{b[c]d}e\n",
        "# a{b(c]d}e\n",
        "# a[b{c}d]e}\n",
        "# a{b(c)"
      ],
      "execution_count": null,
      "outputs": []
    },
    {
      "cell_type": "code",
      "source": [
        "expressao = str(input('Digite uma expressão: '))"
      ],
      "metadata": {
        "colab": {
          "base_uri": "https://localhost:8080/"
        },
        "id": "CQprEE-m-DkG",
        "outputId": "cf790800-8eb5-45e3-e57a-9a101d2e342b"
      },
      "execution_count": 73,
      "outputs": [
        {
          "name": "stdout",
          "output_type": "stream",
          "text": [
            "Digite uma expressão:  a{b(c]d}e\n"
          ]
        }
      ]
    },
    {
      "cell_type": "code",
      "source": [
        "pilha = Pilha(len(expressao))\n",
        "\n",
        "for i in range(len(expressao)):\n",
        "  ch = expressao[i]\n",
        "  if ch == '{' or ch == '[' or ch == '(':\n",
        "    pilha.empilhar(ch)\n",
        "  elif ch == '}' or ch == ']' or ch == ')':\n",
        "    if not pilha.pilha_vazia():\n",
        "      chx = str(pilha.desempilhar())\n",
        "      if (ch == '}' and chx != '{') or (ch == ']' and chx != '[') or (ch == ')' and chx != '('):\n",
        "        print('Erro: ', ch, ' na posição ', i)\n",
        "        break\n",
        "    else:\n",
        "        print('Erro: ', ch, ' na posição ', i)\n",
        "if not pilha.pilha_vazia():\n",
        "    print('Erro!')\n"
      ],
      "metadata": {
        "colab": {
          "base_uri": "https://localhost:8080/"
        },
        "id": "Ak-FdtuB-PqA",
        "outputId": "df31fff3-4302-4301-a09f-3f2d89da2153"
      },
      "execution_count": 74,
      "outputs": [
        {
          "output_type": "stream",
          "name": "stdout",
          "text": [
            "Erro:  ]  na posição  6\n",
            "Erro!\n"
          ]
        }
      ]
    }
  ]
}