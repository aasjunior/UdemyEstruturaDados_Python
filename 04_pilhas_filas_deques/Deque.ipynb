{
  "nbformat": 4,
  "nbformat_minor": 0,
  "metadata": {
    "colab": {
      "provenance": [],
      "authorship_tag": "ABX9TyPGiRfi7+WfvfCIcF78TIOi",
      "include_colab_link": true
    },
    "kernelspec": {
      "name": "python3",
      "display_name": "Python 3"
    },
    "language_info": {
      "name": "python"
    }
  },
  "cells": [
    {
      "cell_type": "markdown",
      "metadata": {
        "id": "view-in-github",
        "colab_type": "text"
      },
      "source": [
        "<a href=\"https://colab.research.google.com/github/aasjunior/UdemyEstruturaDados_Python/blob/main/04_pilhas_filas_deques/Deque.ipynb\" target=\"_parent\"><img src=\"https://colab.research.google.com/assets/colab-badge.svg\" alt=\"Open In Colab\"/></a>"
      ]
    },
    {
      "cell_type": "markdown",
      "source": [
        "## DEQUES (Double Ended Queue)"
      ],
      "metadata": {
        "id": "nJ6efKhLJC4f"
      }
    },
    {
      "cell_type": "markdown",
      "source": [
        "\n",
        "\n",
        "*   Suporta operações de pilhas e filas\n",
        "*   Aplicações\n",
        "    * Filas de prioridade\n",
        "    * Agendamento de tarefas de vários processadores\n",
        "    * O algoritmo de agendamento de trabalho furtivo é usado pela biblioteca **Threading Building Blocks (TBB)** da Intel para programação paralela\n",
        "\n"
      ],
      "metadata": {
        "id": "xgJzgeuFJSvg"
      }
    },
    {
      "cell_type": "markdown",
      "source": [
        "### Operações\n",
        "\n",
        "\n",
        "*   Adicionar no início\n",
        "*   Adicionar no final\n",
        "*   Excluir do início\n",
        "*   Excluir do final\n",
        "\n",
        "*   Implementação Estática X Circular\n",
        "\n"
      ],
      "metadata": {
        "id": "igauz3mzKgGe"
      }
    },
    {
      "cell_type": "markdown",
      "source": [
        "### Implementação Circular"
      ],
      "metadata": {
        "id": "fTrT9EB-Ljrt"
      }
    },
    {
      "cell_type": "code",
      "execution_count": 1,
      "metadata": {
        "id": "X6IrKlmqJCSl"
      },
      "outputs": [],
      "source": [
        "import numpy as np"
      ]
    },
    {
      "cell_type": "code",
      "source": [
        "class Deque:\n",
        "  def __init__(self, capacidade):\n",
        "    self.capacidade = capacidade\n",
        "    self.inicio = -1\n",
        "    self.final = 0\n",
        "    self.numero_elementos = 0\n",
        "    self.valores = np.empty(self.capacidade, dtype=int)\n",
        "\n",
        "  def __deque_cheio(self):\n",
        "    return (self.inicio == 0 and self.final == self.capacidade - 1) or (self.inicio == self.final + 1)\n",
        "\n",
        "  def __deque_vazio(self):\n",
        "    return self.inicio == -1\n",
        "\n",
        "  def insere_inicio(self, valor):\n",
        "    if self.__deque_cheio():\n",
        "      print('O deque está cheio')\n",
        "      return\n",
        "\n",
        "    # Se estiver vazio\n",
        "    if self.inicio == -1:\n",
        "      self.inicio = 0\n",
        "      self.final = 0\n",
        "\n",
        "    # Início estiver na primeira posição\n",
        "    elif self.inicio == 0:\n",
        "      self.inicio = self.capacidade - 1\n",
        "    else:\n",
        "      self.inicio -= 1\n",
        "\n",
        "    self.valores[self.inicio] = valor\n",
        "\n",
        "  def insere_final(self, valor):\n",
        "    if self.__deque_cheio():\n",
        "      print('O deque está cheio')\n",
        "      return\n",
        "\n",
        "    # Se estiver vazio\n",
        "    if self.inicio == -1:\n",
        "      self.inicio = 0\n",
        "      self.final = 0\n",
        "\n",
        "    # Final estiver na última posição\n",
        "    elif self.final == self.capacidade - 1:\n",
        "      self.final = 0\n",
        "    else:\n",
        "      self.final += 1\n",
        "\n",
        "    self.valores[self.final] = valor\n",
        "\n",
        "  def excluir_inicio(self):\n",
        "    if self.__deque_vazio():\n",
        "      print('O deque já está vazio')\n",
        "      return\n",
        "\n",
        "    # Possui somente um elemento\n",
        "    if self.inicio == self.final:\n",
        "      self.inicio = -1\n",
        "      self.final = -1\n",
        "    else:\n",
        "      # Volta para a posição inicial\n",
        "      if self.inicio == self.capacidade - 1:\n",
        "        self.inicio = 0\n",
        "      else:\n",
        "        # Incrementar início para remover o início atual\n",
        "        self.inicio += 1\n",
        "\n",
        "  def excluir_final(self):\n",
        "    if self.__deque_vazio():\n",
        "      print('O deque já está vazio')\n",
        "      return\n",
        "\n",
        "    if self.inicio == self.final:\n",
        "      self.inicio = -1\n",
        "      self.final = -1\n",
        "    elif self.inicio == 0:\n",
        "      self.final = self.capacidade - 1\n",
        "    else:\n",
        "      self.final -= 1\n",
        "\n",
        "  def get_inicio(self):\n",
        "    if self.__deque_vazio():\n",
        "      print('O deque já está vazio')\n",
        "      return\n",
        "\n",
        "    return self.valores[self.inicio]\n",
        "\n",
        "  def get_final(self):\n",
        "    if self.__deque_vazio() or self.final < 0:\n",
        "      print('O deque já está vazio')\n",
        "      return\n",
        "\n",
        "    return self.valores[self.final]\n",
        "\n",
        ""
      ],
      "metadata": {
        "id": "itL8YqAfLpAS"
      },
      "execution_count": 2,
      "outputs": []
    },
    {
      "cell_type": "code",
      "source": [
        "deque = Deque(5)"
      ],
      "metadata": {
        "id": "gJgzXJvvP8N_"
      },
      "execution_count": 3,
      "outputs": []
    },
    {
      "cell_type": "code",
      "source": [
        "deque.insere_final(5)"
      ],
      "metadata": {
        "id": "qiDNmLgCQAQN"
      },
      "execution_count": 4,
      "outputs": []
    },
    {
      "cell_type": "code",
      "source": [
        "deque.get_inicio(), deque.get_final()"
      ],
      "metadata": {
        "colab": {
          "base_uri": "https://localhost:8080/"
        },
        "id": "FPd4g0RHQDbl",
        "outputId": "f48119f7-b7df-4b0f-c28d-450e5dae1c34"
      },
      "execution_count": 6,
      "outputs": [
        {
          "output_type": "execute_result",
          "data": {
            "text/plain": [
              "(5, 5)"
            ]
          },
          "metadata": {},
          "execution_count": 6
        }
      ]
    },
    {
      "cell_type": "code",
      "source": [
        "# 5 10\n",
        "deque.insere_final(10)"
      ],
      "metadata": {
        "id": "vkoJubXpQNr9"
      },
      "execution_count": 7,
      "outputs": []
    },
    {
      "cell_type": "code",
      "source": [
        "deque.get_inicio(), deque.get_final()"
      ],
      "metadata": {
        "colab": {
          "base_uri": "https://localhost:8080/"
        },
        "outputId": "eba60323-4c9e-459c-ade8-17a66ea08823",
        "id": "Hw_YxI9lQTN5"
      },
      "execution_count": 8,
      "outputs": [
        {
          "output_type": "execute_result",
          "data": {
            "text/plain": [
              "(5, 10)"
            ]
          },
          "metadata": {},
          "execution_count": 8
        }
      ]
    },
    {
      "cell_type": "code",
      "source": [
        "# 3 5 10\n",
        "deque.insere_inicio(3)"
      ],
      "metadata": {
        "id": "bk9X7YUzQVWX"
      },
      "execution_count": 9,
      "outputs": []
    },
    {
      "cell_type": "code",
      "source": [
        "deque.get_inicio(), deque.get_final()"
      ],
      "metadata": {
        "colab": {
          "base_uri": "https://localhost:8080/"
        },
        "outputId": "0dfde4a3-02ee-4d0b-de87-75482feaeeae",
        "id": "iryhV9KCQbZX"
      },
      "execution_count": 10,
      "outputs": [
        {
          "output_type": "execute_result",
          "data": {
            "text/plain": [
              "(3, 10)"
            ]
          },
          "metadata": {},
          "execution_count": 10
        }
      ]
    },
    {
      "cell_type": "code",
      "source": [
        "# 2 3 5 10 11\n",
        "deque.insere_inicio(2)\n",
        "deque.insere_final(11)"
      ],
      "metadata": {
        "id": "sxY_c7ZYQdeU"
      },
      "execution_count": 11,
      "outputs": []
    },
    {
      "cell_type": "code",
      "source": [
        "deque.get_inicio(), deque.get_final()"
      ],
      "metadata": {
        "colab": {
          "base_uri": "https://localhost:8080/"
        },
        "outputId": "42d5f340-5c74-476d-ce77-b8bbbfd8e750",
        "id": "Tf3MI58-QmpA"
      },
      "execution_count": 12,
      "outputs": [
        {
          "output_type": "execute_result",
          "data": {
            "text/plain": [
              "(2, 11)"
            ]
          },
          "metadata": {},
          "execution_count": 12
        }
      ]
    },
    {
      "cell_type": "code",
      "source": [
        "# 3 5 10\n",
        "deque.excluir_inicio()\n",
        "deque.excluir_final()"
      ],
      "metadata": {
        "id": "AU7Se_uvQnzP"
      },
      "execution_count": 13,
      "outputs": []
    },
    {
      "cell_type": "code",
      "source": [
        "deque.get_inicio(), deque.get_final()"
      ],
      "metadata": {
        "colab": {
          "base_uri": "https://localhost:8080/"
        },
        "outputId": "f98adf92-7c48-486b-fb04-67cd4a6a27a3",
        "id": "3_6hENTNQwNU"
      },
      "execution_count": 14,
      "outputs": [
        {
          "output_type": "execute_result",
          "data": {
            "text/plain": [
              "(3, 10)"
            ]
          },
          "metadata": {},
          "execution_count": 14
        }
      ]
    },
    {
      "cell_type": "code",
      "source": [
        "deque.valores"
      ],
      "metadata": {
        "colab": {
          "base_uri": "https://localhost:8080/"
        },
        "id": "VrX1DCJyQyVV",
        "outputId": "5405968a-3dc2-4fe6-d97d-00f96af75e09"
      },
      "execution_count": 15,
      "outputs": [
        {
          "output_type": "execute_result",
          "data": {
            "text/plain": [
              "array([ 5, 10, 11,  2,  3])"
            ]
          },
          "metadata": {},
          "execution_count": 15
        }
      ]
    },
    {
      "cell_type": "code",
      "source": [
        "deque.inicio"
      ],
      "metadata": {
        "colab": {
          "base_uri": "https://localhost:8080/"
        },
        "id": "UteL0q9TQ4xk",
        "outputId": "2a800556-7725-4dd1-e5ae-d68988907bf5"
      },
      "execution_count": 16,
      "outputs": [
        {
          "output_type": "execute_result",
          "data": {
            "text/plain": [
              "4"
            ]
          },
          "metadata": {},
          "execution_count": 16
        }
      ]
    },
    {
      "cell_type": "code",
      "source": [
        "deque.final"
      ],
      "metadata": {
        "colab": {
          "base_uri": "https://localhost:8080/"
        },
        "id": "NBXmFcDQQ95M",
        "outputId": "c152799b-da5f-47be-f00d-969c102add14"
      },
      "execution_count": 17,
      "outputs": [
        {
          "output_type": "execute_result",
          "data": {
            "text/plain": [
              "1"
            ]
          },
          "metadata": {},
          "execution_count": 17
        }
      ]
    }
  ]
}