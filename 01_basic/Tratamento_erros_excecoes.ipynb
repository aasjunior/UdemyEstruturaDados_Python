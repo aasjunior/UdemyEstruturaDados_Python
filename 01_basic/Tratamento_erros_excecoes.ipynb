{
  "nbformat": 4,
  "nbformat_minor": 0,
  "metadata": {
    "colab": {
      "provenance": [],
      "authorship_tag": "ABX9TyNvBWbd9cIYCs1P1ab/0tgW",
      "include_colab_link": true
    },
    "kernelspec": {
      "name": "python3",
      "display_name": "Python 3"
    },
    "language_info": {
      "name": "python"
    }
  },
  "cells": [
    {
      "cell_type": "markdown",
      "metadata": {
        "id": "view-in-github",
        "colab_type": "text"
      },
      "source": [
        "<a href=\"https://colab.research.google.com/github/aasjunior/UdemyEstruturaDados_Python/blob/main/Tratamento_erros_excecoes.ipynb\" target=\"_parent\"><img src=\"https://colab.research.google.com/assets/colab-badge.svg\" alt=\"Open In Colab\"/></a>"
      ]
    },
    {
      "cell_type": "markdown",
      "source": [
        "## Tratamento de erros e exceções\n",
        "\n",
        "\n",
        "*   NameError: variável não foi definida\n",
        "*   TypeError: tipos de dados incompatíveis\n",
        "*   RuntimeError: erro de execução\n",
        "*   SyntaxError: sintaxe digitada é inválida e não reconhecida pelo interpretador\n",
        "*   ZeroDivisionError: divisão por zero\n",
        "*   IndexError: índice está fora da coleção\n",
        "\n"
      ],
      "metadata": {
        "id": "s1u_SwbWwumA"
      }
    },
    {
      "cell_type": "markdown",
      "source": [
        "### Tipos de erros"
      ],
      "metadata": {
        "id": "BiZJh7HhxiS6"
      }
    },
    {
      "cell_type": "code",
      "execution_count": 1,
      "metadata": {
        "colab": {
          "base_uri": "https://localhost:8080/",
          "height": 130
        },
        "id": "JurSpKIxws__",
        "outputId": "fccdf43d-4ee6-4ec1-dd85-d2958208e6cf"
      },
      "outputs": [
        {
          "output_type": "error",
          "ename": "SyntaxError",
          "evalue": "ignored",
          "traceback": [
            "\u001b[0;36m  File \u001b[0;32m\"<ipython-input-1-effb9ca1a7d0>\"\u001b[0;36m, line \u001b[0;32m1\u001b[0m\n\u001b[0;31m    3 = 4\u001b[0m\n\u001b[0m    ^\u001b[0m\n\u001b[0;31mSyntaxError\u001b[0m\u001b[0;31m:\u001b[0m cannot assign to literal here. Maybe you meant '==' instead of '='?\n"
          ]
        }
      ],
      "source": [
        "3 = 4"
      ]
    },
    {
      "cell_type": "code",
      "source": [
        "print('Meu nome é: ', nome)"
      ],
      "metadata": {
        "colab": {
          "base_uri": "https://localhost:8080/",
          "height": 165
        },
        "id": "PJjjQZ94yCsU",
        "outputId": "4921f7f3-6d07-4935-82f0-8aed7be49905"
      },
      "execution_count": 2,
      "outputs": [
        {
          "output_type": "error",
          "ename": "NameError",
          "evalue": "ignored",
          "traceback": [
            "\u001b[0;31m---------------------------------------------------------------------------\u001b[0m",
            "\u001b[0;31mNameError\u001b[0m                                 Traceback (most recent call last)",
            "\u001b[0;32m<ipython-input-2-5f48e4989da2>\u001b[0m in \u001b[0;36m<cell line: 1>\u001b[0;34m()\u001b[0m\n\u001b[0;32m----> 1\u001b[0;31m \u001b[0mprint\u001b[0m\u001b[0;34m(\u001b[0m\u001b[0;34m'Meu nome é: '\u001b[0m\u001b[0;34m,\u001b[0m \u001b[0mnome\u001b[0m\u001b[0;34m)\u001b[0m\u001b[0;34m\u001b[0m\u001b[0;34m\u001b[0m\u001b[0m\n\u001b[0m",
            "\u001b[0;31mNameError\u001b[0m: name 'nome' is not defined"
          ]
        }
      ]
    },
    {
      "cell_type": "code",
      "source": [
        "print(3 / 0)"
      ],
      "metadata": {
        "colab": {
          "base_uri": "https://localhost:8080/",
          "height": 165
        },
        "id": "nSQBs8r-yMF7",
        "outputId": "cadb90bf-63fd-4a27-bce6-f6661cfef6c3"
      },
      "execution_count": 3,
      "outputs": [
        {
          "output_type": "error",
          "ename": "ZeroDivisionError",
          "evalue": "ignored",
          "traceback": [
            "\u001b[0;31m---------------------------------------------------------------------------\u001b[0m",
            "\u001b[0;31mZeroDivisionError\u001b[0m                         Traceback (most recent call last)",
            "\u001b[0;32m<ipython-input-3-76ea80225931>\u001b[0m in \u001b[0;36m<cell line: 1>\u001b[0;34m()\u001b[0m\n\u001b[0;32m----> 1\u001b[0;31m \u001b[0mprint\u001b[0m\u001b[0;34m(\u001b[0m\u001b[0;36m3\u001b[0m \u001b[0;34m/\u001b[0m \u001b[0;36m0\u001b[0m\u001b[0;34m)\u001b[0m\u001b[0;34m\u001b[0m\u001b[0;34m\u001b[0m\u001b[0m\n\u001b[0m",
            "\u001b[0;31mZeroDivisionError\u001b[0m: division by zero"
          ]
        }
      ]
    },
    {
      "cell_type": "code",
      "source": [
        "2.3 / 'cachorro'"
      ],
      "metadata": {
        "colab": {
          "base_uri": "https://localhost:8080/",
          "height": 165
        },
        "id": "39KjojhIyQlh",
        "outputId": "a0024cf0-bf14-41f1-b655-0cb43e3ef0d6"
      },
      "execution_count": 4,
      "outputs": [
        {
          "output_type": "error",
          "ename": "TypeError",
          "evalue": "ignored",
          "traceback": [
            "\u001b[0;31m---------------------------------------------------------------------------\u001b[0m",
            "\u001b[0;31mTypeError\u001b[0m                                 Traceback (most recent call last)",
            "\u001b[0;32m<ipython-input-4-48ef6fd474fe>\u001b[0m in \u001b[0;36m<cell line: 1>\u001b[0;34m()\u001b[0m\n\u001b[0;32m----> 1\u001b[0;31m \u001b[0;36m2.3\u001b[0m \u001b[0;34m/\u001b[0m \u001b[0;34m'cachorro'\u001b[0m\u001b[0;34m\u001b[0m\u001b[0;34m\u001b[0m\u001b[0m\n\u001b[0m",
            "\u001b[0;31mTypeError\u001b[0m: unsupported operand type(s) for /: 'float' and 'str'"
          ]
        }
      ]
    },
    {
      "cell_type": "code",
      "source": [
        "c = [1, 2, 3, 4, 5]\n",
        "c"
      ],
      "metadata": {
        "colab": {
          "base_uri": "https://localhost:8080/"
        },
        "id": "ivT1S0UIyXyp",
        "outputId": "6ce6b984-5ae2-416f-cba8-e9fcbcaaaf71"
      },
      "execution_count": 5,
      "outputs": [
        {
          "output_type": "execute_result",
          "data": {
            "text/plain": [
              "[1, 2, 3, 4, 5]"
            ]
          },
          "metadata": {},
          "execution_count": 5
        }
      ]
    },
    {
      "cell_type": "code",
      "source": [
        "c[5]"
      ],
      "metadata": {
        "colab": {
          "base_uri": "https://localhost:8080/",
          "height": 165
        },
        "id": "aex5vJmdygq-",
        "outputId": "80e3edc9-1b0a-4a59-f7f3-49f231a3b35c"
      },
      "execution_count": 6,
      "outputs": [
        {
          "output_type": "error",
          "ename": "IndexError",
          "evalue": "ignored",
          "traceback": [
            "\u001b[0;31m---------------------------------------------------------------------------\u001b[0m",
            "\u001b[0;31mIndexError\u001b[0m                                Traceback (most recent call last)",
            "\u001b[0;32m<ipython-input-6-513c54dffebd>\u001b[0m in \u001b[0;36m<cell line: 1>\u001b[0;34m()\u001b[0m\n\u001b[0;32m----> 1\u001b[0;31m \u001b[0mc\u001b[0m\u001b[0;34m[\u001b[0m\u001b[0;36m5\u001b[0m\u001b[0;34m]\u001b[0m\u001b[0;34m\u001b[0m\u001b[0;34m\u001b[0m\u001b[0m\n\u001b[0m",
            "\u001b[0;31mIndexError\u001b[0m: list index out of range"
          ]
        }
      ]
    },
    {
      "cell_type": "markdown",
      "source": [
        "## Tratamento de erros"
      ],
      "metadata": {
        "id": "DS5FobstxlwM"
      }
    },
    {
      "cell_type": "code",
      "source": [
        "try:\n",
        "  n = int(input('Digite um número inteiro: '))\n",
        "except:\n",
        "  print('Valor inválido')\n",
        "else:\n",
        "  print(f'Valor digitdo é {n}')"
      ],
      "metadata": {
        "colab": {
          "base_uri": "https://localhost:8080/"
        },
        "id": "uamyhYXnypU4",
        "outputId": "765f551f-7ad5-46bd-f1df-e1b043b1a24c"
      },
      "execution_count": 10,
      "outputs": [
        {
          "output_type": "stream",
          "name": "stdout",
          "text": [
            "Digite um número inteiro: k\n",
            "Valor inválido\n"
          ]
        }
      ]
    },
    {
      "cell_type": "code",
      "source": [
        "while True:\n",
        "  try:\n",
        "    n = int(input('Digite um número inteiro: '))\n",
        "  except:\n",
        "    print('Valor inválido')\n",
        "  else:\n",
        "    print(f'Valor digitdo é {n}')\n",
        "    break"
      ],
      "metadata": {
        "colab": {
          "base_uri": "https://localhost:8080/"
        },
        "id": "e6JxjKAazK71",
        "outputId": "ca41469b-52f0-4915-8468-d0579bdcb976"
      },
      "execution_count": 1,
      "outputs": [
        {
          "output_type": "stream",
          "name": "stdout",
          "text": [
            "Digite um número inteiro: l\n",
            "Valor inválido\n",
            "Digite um número inteiro: 4\n",
            "Valor digitdo é 4\n"
          ]
        }
      ]
    },
    {
      "cell_type": "code",
      "source": [
        "while True:\n",
        "  try:\n",
        "    p = int(input('Digite um número inteiro: '))\n",
        "  except ValueError:\n",
        "    print('Valor inválido')\n",
        "  except KeyboardInterrupt:\n",
        "    print('Usuário interrompeu a execução')\n",
        "    break\n",
        "  else:\n",
        "    print(f'Valor digitdo é {p}')\n",
        "    break"
      ],
      "metadata": {
        "colab": {
          "base_uri": "https://localhost:8080/"
        },
        "id": "kq9QZVoQzh2S",
        "outputId": "8c76fda4-03fd-4220-d207-765ad47ffdb0"
      },
      "execution_count": 2,
      "outputs": [
        {
          "name": "stdout",
          "output_type": "stream",
          "text": [
            "Digite um número inteiro: t\n",
            "Valor inválido\n",
            "Usuário interrompeu a execução\n",
            "Digite um número inteiro: 5\n"
          ]
        }
      ]
    }
  ]
}