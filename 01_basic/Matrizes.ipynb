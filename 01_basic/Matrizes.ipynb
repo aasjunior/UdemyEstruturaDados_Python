{
  "nbformat": 4,
  "nbformat_minor": 0,
  "metadata": {
    "colab": {
      "provenance": [],
      "authorship_tag": "ABX9TyNlz0OBIHesy2S6MdyQA3PK",
      "include_colab_link": true
    },
    "kernelspec": {
      "name": "python3",
      "display_name": "Python 3"
    },
    "language_info": {
      "name": "python"
    }
  },
  "cells": [
    {
      "cell_type": "markdown",
      "metadata": {
        "id": "view-in-github",
        "colab_type": "text"
      },
      "source": [
        "<a href=\"https://colab.research.google.com/github/aasjunior/UdemyEstruturaDados_Python/blob/main/Matrizes.ipynb\" target=\"_parent\"><img src=\"https://colab.research.google.com/assets/colab-badge.svg\" alt=\"Open In Colab\"/></a>"
      ]
    },
    {
      "cell_type": "markdown",
      "source": [
        "## Matrizes"
      ],
      "metadata": {
        "id": "iNoG6go46Aft"
      }
    },
    {
      "cell_type": "markdown",
      "source": [
        "Lista mais perfomatica do que utilizar dicionários."
      ],
      "metadata": {
        "id": "bZ4nVmSg6Kx5"
      }
    },
    {
      "cell_type": "code",
      "execution_count": 1,
      "metadata": {
        "id": "qzIxdRgv58Jl"
      },
      "outputs": [],
      "source": [
        "import numpy as np"
      ]
    },
    {
      "cell_type": "code",
      "source": [
        "matriz = np.array([[2,3,1],[4,5,7]])"
      ],
      "metadata": {
        "id": "gB_tu2Zk6Wxc"
      },
      "execution_count": 2,
      "outputs": []
    },
    {
      "cell_type": "code",
      "source": [
        "matriz"
      ],
      "metadata": {
        "colab": {
          "base_uri": "https://localhost:8080/"
        },
        "id": "warHRLw16pyU",
        "outputId": "15ba69fc-9e7d-4132-f26d-d42a887274cc"
      },
      "execution_count": 3,
      "outputs": [
        {
          "output_type": "execute_result",
          "data": {
            "text/plain": [
              "array([[2, 3, 1],\n",
              "       [4, 5, 7]])"
            ]
          },
          "metadata": {},
          "execution_count": 3
        }
      ]
    },
    {
      "cell_type": "markdown",
      "source": [
        "Retornar formato da coluna (2 linhas por 3 colunas)"
      ],
      "metadata": {
        "id": "0mV3LMCQ7REe"
      }
    },
    {
      "cell_type": "code",
      "source": [
        "matriz.shape"
      ],
      "metadata": {
        "colab": {
          "base_uri": "https://localhost:8080/"
        },
        "id": "qksjf8zD61vF",
        "outputId": "056ed0ed-02be-4e2c-ecc8-c5021de3bc8e"
      },
      "execution_count": 7,
      "outputs": [
        {
          "output_type": "execute_result",
          "data": {
            "text/plain": [
              "(2, 3)"
            ]
          },
          "metadata": {},
          "execution_count": 7
        }
      ]
    },
    {
      "cell_type": "markdown",
      "source": [
        "Retornar valores por linha"
      ],
      "metadata": {
        "id": "9OyhPKmu7kVF"
      }
    },
    {
      "cell_type": "code",
      "source": [
        "matriz[0]"
      ],
      "metadata": {
        "id": "Ia4tG2Gj7ddc",
        "outputId": "efebabc1-2864-4658-a40f-85268869f5e4",
        "colab": {
          "base_uri": "https://localhost:8080/"
        }
      },
      "execution_count": 8,
      "outputs": [
        {
          "output_type": "execute_result",
          "data": {
            "text/plain": [
              "array([2, 3, 1])"
            ]
          },
          "metadata": {},
          "execution_count": 8
        }
      ]
    },
    {
      "cell_type": "markdown",
      "source": [
        "Retornar valores por coluna"
      ],
      "metadata": {
        "id": "1uGxWpoV7pgh"
      }
    },
    {
      "cell_type": "code",
      "source": [
        "matriz[0][2]"
      ],
      "metadata": {
        "id": "uSFvtyVM7tIC",
        "outputId": "881c3a28-d344-4bed-eab3-17209324b2eb",
        "colab": {
          "base_uri": "https://localhost:8080/"
        }
      },
      "execution_count": 10,
      "outputs": [
        {
          "output_type": "execute_result",
          "data": {
            "text/plain": [
              "1"
            ]
          },
          "metadata": {},
          "execution_count": 10
        }
      ]
    },
    {
      "cell_type": "code",
      "source": [
        "matriz[1][0]"
      ],
      "metadata": {
        "id": "R1lXrP7E75Uf",
        "outputId": "1c6b48e2-9e2a-479b-95b5-ad747ae9d29d",
        "colab": {
          "base_uri": "https://localhost:8080/"
        }
      },
      "execution_count": 11,
      "outputs": [
        {
          "output_type": "execute_result",
          "data": {
            "text/plain": [
              "4"
            ]
          },
          "metadata": {},
          "execution_count": 11
        }
      ]
    },
    {
      "cell_type": "markdown",
      "source": [
        "Percorrer todos os elementos"
      ],
      "metadata": {
        "id": "8Wche1CQ7-YX"
      }
    },
    {
      "cell_type": "code",
      "source": [
        "for i in range(matriz.shape[0]):\n",
        "  print(matriz[i])\n",
        "  for j in range(matriz.shape[1]):\n",
        "    print(matriz[i][j])"
      ],
      "metadata": {
        "id": "vZ8fKdrn79q5",
        "outputId": "f0b2141a-1c00-4656-95e8-d0a9336e5ac4",
        "colab": {
          "base_uri": "https://localhost:8080/"
        }
      },
      "execution_count": 12,
      "outputs": [
        {
          "output_type": "stream",
          "name": "stdout",
          "text": [
            "[2 3 1]\n",
            "2\n",
            "3\n",
            "1\n",
            "[4 5 7]\n",
            "4\n",
            "5\n",
            "7\n"
          ]
        }
      ]
    }
  ]
}